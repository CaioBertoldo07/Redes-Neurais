{
 "cells": [
  {
   "cell_type": "markdown",
   "metadata": {},
   "source": [
    "# Redes Neurais Artificiais 2025.1\n",
    "\n",
    "\n",
    "## Implementação de Redes Neurais com Sci-Kit Learn\n",
    "\n",
    "* Professora: Elloá B. Guedes (ebgcosta@uea.edu.br)\n",
    "\n",
    "\n",
    "### Contexto: Consumo de Combustível\n",
    "\n",
    "O objetivo desta atividade prática é utilizar as ferramentas de Machine Learning no ambiente Python com o uso das bibliotecas pandas e sci-kit learn para prever o consumo de combustível de veículos.\n",
    "\n",
    "### Base de Dados\n",
    "\n",
    "Disponível em: https://archive.ics.uci.edu/ml/datasets/auto+mpg"
   ]
  },
  {
   "cell_type": "markdown",
   "metadata": {},
   "source": [
    "### Bibliotecas\n",
    "\n",
    "Por hábito, a primeira célula do notebook costuma ser reservada para importação de bibliotecas.\n",
    "A cada biblioteca nova acrescida, é necessário executar a célula para atualização e correta execução."
   ]
  },
  {
   "cell_type": "code",
   "execution_count": 329,
   "metadata": {
    "collapsed": true,
    "jupyter": {
     "outputs_hidden": true
    }
   },
   "outputs": [],
   "source": [
    "import pandas as pd\n",
    "from sklearn.model_selection import train_test_split\n",
    "from sklearn.linear_model import LinearRegression\n",
    "from sklearn.metrics import r2_score\n",
    "import matplotlib.pyplot as plt\n",
    "import numpy as np\n",
    "from sklearn.neural_network import MLPRegressor\n",
    "from sklearn.preprocessing import StandardScaler\n",
    "from sklearn.metrics import r2_score"
   ]
  },
  {
   "cell_type": "markdown",
   "metadata": {},
   "source": [
    "### Abertura do Dataset\n",
    "\n",
    "Abra o dataset e visualize o seu cabeçalho, isto é, os primeiros exemplos nele contidos.\n",
    "Isto é útil para checar se a importação foi realizada de maneira adequada e se a disposição dos dados está de acordo para os próximos passos do trabalho."
   ]
  },
  {
   "cell_type": "code",
   "execution_count": 330,
   "metadata": {
    "collapsed": true,
    "jupyter": {
     "outputs_hidden": true
    }
   },
   "outputs": [
    {
     "name": "stdout",
     "output_type": "stream",
     "text": [
      "Index(['mpg', 'cylinders', 'displacement', 'horsepower', 'weight',\n",
      "       'acceleration', 'modelyear', 'origin', 'name'],\n",
      "      dtype='object')\n"
     ]
    }
   ],
   "source": [
    "df = pd.read_csv('autompg.csv', sep=';')\n",
    "df.head()\n",
    "print(df.columns)"
   ]
  },
  {
   "cell_type": "markdown",
   "metadata": {},
   "source": [
    "### Conhecendo o dataset\n",
    "\n",
    "Para praticar conceitos relativos à exploração do conjunto de dados, utilize as células a seguir para prover respostas para as seguintes perguntas:\n",
    "\n",
    "1. Quantos exemplos há no dataset?\n",
    "2. Quais os atributos existentes no dataset?\n",
    "3. Quais os nomes dos carros existentes no dataset?\n",
    "4. Quais as características do 'chevrolet camaro'?\n",
    "5. Qual a média de consumo, em galões por litro, dos carros existentes no dataset?"
   ]
  },
  {
   "cell_type": "code",
   "execution_count": 331,
   "metadata": {
    "collapsed": true,
    "jupyter": {
     "outputs_hidden": true
    }
   },
   "outputs": [
    {
     "name": "stdout",
     "output_type": "stream",
     "text": [
      "1. Quantidade de exemplos no dataset: 406\n"
     ]
    }
   ],
   "source": [
    "numberOfExamples = len(df)\n",
    "print(f'1. Quantidade de exemplos no dataset: {numberOfExamples}')"
   ]
  },
  {
   "cell_type": "code",
   "execution_count": 332,
   "metadata": {
    "collapsed": true,
    "jupyter": {
     "outputs_hidden": true
    }
   },
   "outputs": [
    {
     "name": "stdout",
     "output_type": "stream",
     "text": [
      "2. Atributos existentes no dataset: ['mpg', 'cylinders', 'displacement', 'horsepower', 'weight', 'acceleration', 'modelyear', 'origin', 'name']\n"
     ]
    }
   ],
   "source": [
    "attributes = df.columns.tolist()\n",
    "print(f'2. Atributos existentes no dataset: {attributes}')"
   ]
  },
  {
   "cell_type": "code",
   "execution_count": 333,
   "metadata": {
    "collapsed": true,
    "jupyter": {
     "outputs_hidden": true
    }
   },
   "outputs": [
    {
     "name": "stdout",
     "output_type": "stream",
     "text": [
      "3. Nomes dos carros existentes no dataset: ['chevrolet chevelle malibu' 'buick skylark 320' 'plymouth satellite'\n",
      " 'amc rebel sst' 'ford torino' 'ford galaxie 500' 'chevrolet impala'\n",
      " 'plymouth fury iii' 'pontiac catalina' 'amc ambassador dpl'\n",
      " 'citroen ds-21 pallas' 'chevrolet chevelle concours (sw)'\n",
      " 'ford torino (sw)' 'plymouth satellite (sw)' 'amc rebel sst (sw)'\n",
      " 'dodge challenger se' \"plymouth 'cuda 340\" 'ford mustang boss 302'\n",
      " 'chevrolet monte carlo' 'buick estate wagon (sw)' 'toyota corona mark ii'\n",
      " 'plymouth duster' 'amc hornet' 'ford maverick' 'datsun pl510'\n",
      " 'volkswagen 1131 deluxe sedan' 'peugeot 504' 'audi 100 ls' 'saab 99e'\n",
      " 'bmw 2002' 'amc gremlin' 'ford f250' 'chevy c20' 'dodge d200' 'hi 1200d'\n",
      " 'chevrolet vega 2300' 'toyota corona' 'ford pinto'\n",
      " 'volkswagen super beetle 117' 'plymouth satellite custom'\n",
      " 'ford torino 500' 'amc matador' 'pontiac catalina brougham'\n",
      " 'dodge monaco (sw)' 'ford country squire (sw)' 'pontiac safari (sw)'\n",
      " 'amc hornet sportabout (sw)' 'chevrolet vega (sw)' 'pontiac firebird'\n",
      " 'ford mustang' 'mercury capri 2000' 'opel 1900' 'peugeot 304' 'fiat 124b'\n",
      " 'toyota corolla 1200' 'datsun 1200' 'volkswagen model 111'\n",
      " 'plymouth cricket' 'toyota corona hardtop' 'dodge colt hardtop'\n",
      " 'volkswagen type 3' 'chevrolet vega' 'ford pinto runabout'\n",
      " 'amc ambassador sst' 'mercury marquis' 'buick lesabre custom'\n",
      " 'oldsmobile delta 88 royale' 'chrysler newport royal' 'mazda rx2 coupe'\n",
      " 'amc matador (sw)' 'ford gran torino (sw)'\n",
      " 'plymouth satellite custom (sw)' 'volvo 145e (sw)' 'volkswagen 411 (sw)'\n",
      " 'peugeot 504 (sw)' 'renault 12 (sw)' 'ford pinto (sw)' 'datsun 510 (sw)'\n",
      " 'toyouta corona mark ii (sw)' 'dodge colt (sw)'\n",
      " 'toyota corolla 1600 (sw)' 'buick century 350' 'chevrolet malibu'\n",
      " 'ford gran torino' 'dodge coronet custom' 'mercury marquis brougham'\n",
      " 'chevrolet caprice classic' 'ford ltd' 'plymouth fury gran sedan'\n",
      " 'chrysler new yorker brougham' 'buick electra 225 custom'\n",
      " 'amc ambassador brougham' 'plymouth valiant' 'chevrolet nova custom'\n",
      " 'volkswagen super beetle' 'ford country' 'plymouth custom suburb'\n",
      " 'oldsmobile vista cruiser' 'toyota carina' 'datsun 610' 'maxda rx3'\n",
      " 'mercury capri v6' 'fiat 124 sport coupe' 'chevrolet monte carlo s'\n",
      " 'pontiac grand prix' 'fiat 128' 'opel manta' 'audi 100ls' 'volvo 144ea'\n",
      " 'dodge dart custom' 'saab 99le' 'toyota mark ii' 'oldsmobile omega'\n",
      " 'chevrolet nova' 'datsun b210' 'chevrolet chevelle malibu classic'\n",
      " 'plymouth satellite sebring' 'buick century luxus (sw)'\n",
      " 'dodge coronet custom (sw)' 'audi fox' 'volkswagen dasher' 'datsun 710'\n",
      " 'dodge colt' 'fiat 124 tc' 'honda civic' 'subaru' 'fiat x1.9'\n",
      " 'plymouth valiant custom' 'mercury monarch' 'chevrolet bel air'\n",
      " 'plymouth grand fury' 'buick century' 'chevroelt chevelle malibu'\n",
      " 'plymouth fury' 'buick skyhawk' 'chevrolet monza 2+2' 'ford mustang ii'\n",
      " 'toyota corolla' 'pontiac astro' 'volkswagen rabbit' 'amc pacer'\n",
      " 'volvo 244dl' 'honda civic cvcc' 'fiat 131' 'capri ii' 'renault 12tl'\n",
      " 'dodge coronet brougham' 'chevrolet chevette' 'chevrolet woody'\n",
      " 'vw rabbit' 'dodge aspen se' 'ford granada ghia' 'pontiac ventura sj'\n",
      " 'amc pacer d/l' 'datsun b-210' 'volvo 245' 'plymouth volare premier v8'\n",
      " 'mercedes-benz 280s' 'cadillac seville' 'chevy c10' 'ford f108'\n",
      " 'dodge d100' 'honda accord cvcc' 'buick opel isuzu deluxe'\n",
      " 'renault 5 gtl' 'plymouth arrow gs' 'datsun f-10 hatchback'\n",
      " 'oldsmobile cutlass supreme' 'dodge monaco brougham'\n",
      " 'mercury cougar brougham' 'chevrolet concours' 'buick skylark'\n",
      " 'plymouth volare custom' 'ford granada' 'pontiac grand prix lj'\n",
      " 'chevrolet monte carlo landau' 'chrysler cordoba' 'ford thunderbird'\n",
      " 'volkswagen rabbit custom' 'pontiac sunbird coupe'\n",
      " 'toyota corolla liftback' 'ford mustang ii 2+2' 'dodge colt m/m'\n",
      " 'subaru dl' 'datsun 810' 'bmw 320i' 'mazda rx-4'\n",
      " 'volkswagen rabbit custom diesel' 'ford fiesta' 'mazda glc deluxe'\n",
      " 'datsun b210 gx' 'oldsmobile cutlass salon brougham' 'dodge diplomat'\n",
      " 'mercury monarch ghia' 'pontiac phoenix lj' 'ford fairmont (auto)'\n",
      " 'ford fairmont (man)' 'plymouth volare' 'amc concord'\n",
      " 'buick century special' 'mercury zephyr' 'dodge aspen' 'amc concord d/l'\n",
      " 'buick regal sport coupe (turbo)' 'ford futura' 'dodge magnum xe'\n",
      " 'datsun 510' 'dodge omni' 'toyota celica gt liftback' 'plymouth sapporo'\n",
      " 'oldsmobile starfire sx' 'datsun 200-sx' 'audi 5000' 'volvo 264gl'\n",
      " 'saab 99gle' 'peugeot 604sl' 'volkswagen scirocco' 'honda accord lx'\n",
      " 'pontiac lemans v6' 'mercury zephyr 6' 'ford fairmont 4'\n",
      " 'amc concord dl 6' 'dodge aspen 6' 'ford ltd landau'\n",
      " 'mercury grand marquis' 'dodge st. regis' 'chevrolet malibu classic (sw)'\n",
      " 'chrysler lebaron town @ country (sw)' 'vw rabbit custom'\n",
      " 'maxda glc deluxe' 'dodge colt hatchback custom' 'amc spirit dl'\n",
      " 'mercedes benz 300d' 'cadillac eldorado' 'plymouth horizon'\n",
      " 'plymouth horizon tc3' 'datsun 210' 'fiat strada custom'\n",
      " 'buick skylark limited' 'chevrolet citation' 'oldsmobile omega brougham'\n",
      " 'pontiac phoenix' 'toyota corolla tercel' 'datsun 310' 'ford fairmont'\n",
      " 'audi 4000' 'toyota corona liftback' 'mazda 626' 'datsun 510 hatchback'\n",
      " 'mazda glc' 'vw rabbit c (diesel)' 'vw dasher (diesel)'\n",
      " 'audi 5000s (diesel)' 'mercedes-benz 240d' 'honda civic 1500 gl'\n",
      " 'renault lecar deluxe' 'vokswagen rabbit' 'datsun 280-zx' 'mazda rx-7 gs'\n",
      " 'triumph tr7 coupe' 'ford mustang cobra' 'honda accord'\n",
      " 'plymouth reliant' 'dodge aries wagon (sw)' 'toyota starlet'\n",
      " 'plymouth champ' 'honda civic 1300' 'datsun 210 mpg' 'toyota tercel'\n",
      " 'mazda glc 4' 'plymouth horizon 4' 'ford escort 4w' 'ford escort 2h'\n",
      " 'volkswagen jetta' 'renault 18i' 'honda prelude' 'datsun 200sx'\n",
      " 'peugeot 505s turbo diesel' 'saab 900s' 'volvo diesel' 'toyota cressida'\n",
      " 'datsun 810 maxima' 'oldsmobile cutlass ls' 'ford granada gl'\n",
      " 'chrysler lebaron salon' 'chevrolet cavalier' 'chevrolet cavalier wagon'\n",
      " 'chevrolet cavalier 2-door' 'pontiac j2000 se hatchback' 'dodge aries se'\n",
      " 'ford fairmont futura' 'amc concord dl' 'volkswagen rabbit l'\n",
      " 'mazda glc custom l' 'mazda glc custom' 'plymouth horizon miser'\n",
      " 'mercury lynx l' 'nissan stanza xe' 'honda civic (auto)' 'datsun 310 gx'\n",
      " 'buick century limited' 'oldsmobile cutlass ciera (diesel)'\n",
      " 'chrysler lebaron medallion' 'ford granada l' 'toyota celica gt'\n",
      " 'dodge charger 2.2' 'chevrolet camaro' 'ford mustang gl' 'vw pickup'\n",
      " 'dodge rampage' 'ford ranger' 'chevy s-10']\n"
     ]
    }
   ],
   "source": [
    "carNames = df['name'].unique()\n",
    "print(f'3. Nomes dos carros existentes no dataset: {carNames}')"
   ]
  },
  {
   "cell_type": "code",
   "execution_count": 334,
   "metadata": {
    "collapsed": true,
    "jupyter": {
     "outputs_hidden": true
    }
   },
   "outputs": [
    {
     "name": "stdout",
     "output_type": "stream",
     "text": [
      "      mpg  cylinders  displacement  horsepower  weight  acceleration  \\\n",
      "400  27.0        4.0         151.0        90.0  2950.0          17.3   \n",
      "\n",
      "     modelyear  origin              name  \n",
      "400       82.0     1.0  chevrolet camaro  \n"
     ]
    }
   ],
   "source": [
    "camaroFeatures = df[df['name'].str.contains('chevrolet camaro', case=False)]\n",
    "print(camaroFeatures)"
   ]
  },
  {
   "cell_type": "code",
   "execution_count": 335,
   "metadata": {
    "collapsed": true,
    "jupyter": {
     "outputs_hidden": true
    }
   },
   "outputs": [
    {
     "name": "stdout",
     "output_type": "stream",
     "text": [
      "Média de consumo (km/l) dos carros no dataset: 10.00\n"
     ]
    }
   ],
   "source": [
    "df['km_per_liter'] = (df['mpg'] * 1.60934) / 3.78541\n",
    "print(f'Média de consumo (km/l) dos carros no dataset: {df['km_per_liter'].mean():.2f}')"
   ]
  },
  {
   "cell_type": "markdown",
   "metadata": {},
   "source": [
    "### Preparação dos dados\n",
    "\n",
    "1. Existem exemplos com dados faltantes. Para fins de simplificação, elimine-os do dataset.\n",
    "2. Exclua a coluna com os nomes dos carros\n",
    "3. Converta mpg para km/l sabendo que: 1 mpg  = 0.425 km/l. Utilize apenas duas casas decimais nesta conversão.\n",
    "4. Remova a coluna mpg e insira a coluna kml no dataset."
   ]
  },
  {
   "cell_type": "code",
   "execution_count": 336,
   "metadata": {
    "collapsed": true,
    "jupyter": {
     "outputs_hidden": true
    }
   },
   "outputs": [],
   "source": [
    "df.replace('?', pd.NA, inplace=True)\n",
    "df.dropna(inplace=True)\n",
    "\n",
    "df['horsepower'] = df['horsepower'].astype(float)"
   ]
  },
  {
   "cell_type": "code",
   "execution_count": 337,
   "metadata": {
    "collapsed": true,
    "jupyter": {
     "outputs_hidden": true
    }
   },
   "outputs": [],
   "source": [
    "df.drop(columns=['name'], inplace=True)\n",
    "df.drop(columns=['km_per_liter'], inplace=True)"
   ]
  },
  {
   "cell_type": "code",
   "execution_count": 338,
   "metadata": {
    "collapsed": true,
    "jupyter": {
     "outputs_hidden": true
    }
   },
   "outputs": [],
   "source": [
    "df['kml'] = (df['mpg'] * 0.425).round(2)"
   ]
  },
  {
   "cell_type": "code",
   "execution_count": 339,
   "metadata": {
    "collapsed": true,
    "jupyter": {
     "outputs_hidden": true
    }
   },
   "outputs": [
    {
     "data": {
      "text/html": [
       "<div>\n",
       "<style scoped>\n",
       "    .dataframe tbody tr th:only-of-type {\n",
       "        vertical-align: middle;\n",
       "    }\n",
       "\n",
       "    .dataframe tbody tr th {\n",
       "        vertical-align: top;\n",
       "    }\n",
       "\n",
       "    .dataframe thead th {\n",
       "        text-align: right;\n",
       "    }\n",
       "</style>\n",
       "<table border=\"1\" class=\"dataframe\">\n",
       "  <thead>\n",
       "    <tr style=\"text-align: right;\">\n",
       "      <th></th>\n",
       "      <th>cylinders</th>\n",
       "      <th>displacement</th>\n",
       "      <th>horsepower</th>\n",
       "      <th>weight</th>\n",
       "      <th>acceleration</th>\n",
       "      <th>modelyear</th>\n",
       "      <th>origin</th>\n",
       "      <th>kml</th>\n",
       "    </tr>\n",
       "  </thead>\n",
       "  <tbody>\n",
       "    <tr>\n",
       "      <th>0</th>\n",
       "      <td>8.0</td>\n",
       "      <td>307.0</td>\n",
       "      <td>130.0</td>\n",
       "      <td>3504.0</td>\n",
       "      <td>12.0</td>\n",
       "      <td>70.0</td>\n",
       "      <td>1.0</td>\n",
       "      <td>7.65</td>\n",
       "    </tr>\n",
       "    <tr>\n",
       "      <th>1</th>\n",
       "      <td>8.0</td>\n",
       "      <td>350.0</td>\n",
       "      <td>165.0</td>\n",
       "      <td>3693.0</td>\n",
       "      <td>11.5</td>\n",
       "      <td>70.0</td>\n",
       "      <td>1.0</td>\n",
       "      <td>6.38</td>\n",
       "    </tr>\n",
       "    <tr>\n",
       "      <th>2</th>\n",
       "      <td>8.0</td>\n",
       "      <td>318.0</td>\n",
       "      <td>150.0</td>\n",
       "      <td>3436.0</td>\n",
       "      <td>11.0</td>\n",
       "      <td>70.0</td>\n",
       "      <td>1.0</td>\n",
       "      <td>7.65</td>\n",
       "    </tr>\n",
       "    <tr>\n",
       "      <th>3</th>\n",
       "      <td>8.0</td>\n",
       "      <td>304.0</td>\n",
       "      <td>150.0</td>\n",
       "      <td>3433.0</td>\n",
       "      <td>12.0</td>\n",
       "      <td>70.0</td>\n",
       "      <td>1.0</td>\n",
       "      <td>6.80</td>\n",
       "    </tr>\n",
       "    <tr>\n",
       "      <th>4</th>\n",
       "      <td>8.0</td>\n",
       "      <td>302.0</td>\n",
       "      <td>140.0</td>\n",
       "      <td>3449.0</td>\n",
       "      <td>10.5</td>\n",
       "      <td>70.0</td>\n",
       "      <td>1.0</td>\n",
       "      <td>7.22</td>\n",
       "    </tr>\n",
       "  </tbody>\n",
       "</table>\n",
       "</div>"
      ],
      "text/plain": [
       "   cylinders  displacement  horsepower  weight  acceleration  modelyear  \\\n",
       "0        8.0         307.0       130.0  3504.0          12.0       70.0   \n",
       "1        8.0         350.0       165.0  3693.0          11.5       70.0   \n",
       "2        8.0         318.0       150.0  3436.0          11.0       70.0   \n",
       "3        8.0         304.0       150.0  3433.0          12.0       70.0   \n",
       "4        8.0         302.0       140.0  3449.0          10.5       70.0   \n",
       "\n",
       "   origin   kml  \n",
       "0     1.0  7.65  \n",
       "1     1.0  6.38  \n",
       "2     1.0  7.65  \n",
       "3     1.0  6.80  \n",
       "4     1.0  7.22  "
      ]
     },
     "execution_count": 339,
     "metadata": {},
     "output_type": "execute_result"
    }
   ],
   "source": [
    "df.drop(columns=['mpg'], inplace=True)\n",
    "df.head()"
   ]
  },
  {
   "cell_type": "markdown",
   "metadata": {},
   "source": [
    "### Organização dos dados para treinamento\n",
    "\n",
    "1. Remova a coluna kml e atribua-a a uma variável Y\n",
    "2. Atribua os demais valores do dataset a uma variável X\n",
    "3. Efetue uma partição holdout 70/30 com o sklearn"
   ]
  },
  {
   "cell_type": "code",
   "execution_count": 340,
   "metadata": {
    "collapsed": true,
    "jupyter": {
     "outputs_hidden": true
    }
   },
   "outputs": [],
   "source": [
    "Y = df['kml']\n",
    "X = df.drop(columns=['kml'])"
   ]
  },
  {
   "cell_type": "code",
   "execution_count": 341,
   "metadata": {
    "collapsed": true,
    "jupyter": {
     "outputs_hidden": true
    }
   },
   "outputs": [],
   "source": [
    "# Necessário importar: from sklearn.model_selection import train_test_split\n",
    "X_train, X_test, Y_train, Y_test = train_test_split(X, Y, test_size=0.30)"
   ]
  },
  {
   "cell_type": "code",
   "execution_count": 342,
   "metadata": {
    "collapsed": true,
    "jupyter": {
     "outputs_hidden": true
    }
   },
   "outputs": [
    {
     "name": "stdout",
     "output_type": "stream",
     "text": [
      "X_train shape: (274, 7)\n",
      "X_test shape: (118, 7)\n",
      "Y_train shape: (274,)\n",
      "Y_test shape: (118,)\n"
     ]
    }
   ],
   "source": [
    "print(f'X_train shape: {X_train.shape}')\n",
    "print(f'X_test shape: {X_test.shape}')\n",
    "print(f'Y_train shape: {Y_train.shape}')\n",
    "print(f'Y_test shape: {Y_test.shape}')\n"
   ]
  },
  {
   "cell_type": "markdown",
   "metadata": {},
   "source": [
    "### Treinamento de um modelo de regressão linear\n",
    "\n",
    "1. Importe o modelo da biblioteca sklearn\n",
    "2. Instancie o modelo com parâmetros padrão (default)\n",
    "3. Execute o algoritmo de treinamento com os dados de treino"
   ]
  },
  {
   "cell_type": "code",
   "execution_count": 343,
   "metadata": {
    "collapsed": true,
    "jupyter": {
     "outputs_hidden": true
    }
   },
   "outputs": [
    {
     "name": "stdout",
     "output_type": "stream",
     "text": [
      "Coeficientes do modelo: [-0.25018456  0.00727291 -0.00678245 -0.00266066 -0.00779461  0.33320237\n",
      "  0.59253654]\n",
      "Intercepto: -7.529985406709544\n"
     ]
    }
   ],
   "source": [
    "regr = LinearRegression()\n",
    "\n",
    "# Train the model using the training sets\n",
    "regr.fit(X_train, Y_train)\n",
    "\n",
    "print(f'Coeficientes do modelo: {regr.coef_}')\n",
    "print(f'Intercepto: {regr.intercept_}')"
   ]
  },
  {
   "cell_type": "markdown",
   "metadata": {},
   "source": [
    "### Teste do modelo\n",
    "\n",
    "Vamos observar a saída do modelo para um exemplo individual existente nos dados de treino:\n",
    "* Atributos preditores: X_test[2:3]\n",
    "* Atributo alvo: Y_test.iloc[2]\n",
    "* Qual o resultado previsto para o modelo, dados estes atributos preditores?"
   ]
  },
  {
   "cell_type": "code",
   "execution_count": 344,
   "metadata": {
    "collapsed": true,
    "jupyter": {
     "outputs_hidden": true
    }
   },
   "outputs": [
    {
     "name": "stdout",
     "output_type": "stream",
     "text": [
      "Valor real: 10.16\n",
      "Valor previsto: [12.92922097]\n"
     ]
    }
   ],
   "source": [
    "predictedValue = regr.predict(X_test)\n",
    "realValue = Y_test.iloc[2]\n",
    "\n",
    "print(f'Valor real: {realValue}')\n",
    "print(f'Valor previsto: {predictedValue[2:3]}')"
   ]
  },
  {
   "cell_type": "markdown",
   "metadata": {},
   "source": [
    "### Teste do modelo\n",
    "\n",
    "1. Obtenha o R^2 para os dados de teste\n",
    " * Efetue a importação de r2_score do pacote sklearn.metrics\n",
    " * Trata-se de um valor no intervalo [0,1]\n",
    " * Quanto mais próximo de 1, melhor é o modelo"
   ]
  },
  {
   "cell_type": "code",
   "execution_count": 345,
   "metadata": {
    "collapsed": true,
    "jupyter": {
     "outputs_hidden": true
    }
   },
   "outputs": [],
   "source": [
    "y_pred = regr.predict(X_test)\n",
    "r2 = r2_score(Y_test, y_pred)"
   ]
  },
  {
   "cell_type": "code",
   "execution_count": 346,
   "metadata": {
    "collapsed": true,
    "jupyter": {
     "outputs_hidden": true
    }
   },
   "outputs": [
    {
     "name": "stdout",
     "output_type": "stream",
     "text": [
      "R² do modelo nos dados de teste: 0.8135559896678025\n"
     ]
    }
   ],
   "source": [
    "print(f'R² do modelo nos dados de teste: {r2}')"
   ]
  },
  {
   "cell_type": "markdown",
   "metadata": {},
   "source": [
    "### Obtendo e visualizando os resíduos\n",
    "\n",
    "Uma maneira muito comum de visualizarmos o quão bom certo modelo é para aprender determinados padrões dá-se por meio da visualização dos resíduos, isto é, da diferença entre os valores previstos e observados. Adapte o código a seguir para calcular os resíduos produzidos pelo seu modelo."
   ]
  },
  {
   "cell_type": "code",
   "execution_count": 347,
   "metadata": {
    "collapsed": true,
    "jupyter": {
     "outputs_hidden": true
    }
   },
   "outputs": [],
   "source": [
    "residuos = []\n",
    "Y_predito = regr.predict(X_test)\n",
    "\n",
    "for (y_real ,y_pred) in zip(Y_test,Y_predito):\n",
    "    residuos.append((y_real - y_pred) ** 2)"
   ]
  },
  {
   "cell_type": "code",
   "execution_count": 348,
   "metadata": {
    "collapsed": true,
    "jupyter": {
     "outputs_hidden": true
    }
   },
   "outputs": [
    {
     "data": {
      "image/png": "[encoded data removed]",
      "text/plain": [
       "<Figure size 640x480 with 1 Axes>"
      ]
     },
     "metadata": {},
     "output_type": "display_data"
    }
   ],
   "source": [
    "x = [0,int(max(Y_test))]\n",
    "y = [0,0]\n",
    "\n",
    "plt.plot(x,y,linewidth=3)\n",
    "plt.plot(Y_test,residuos,'ro')\n",
    "plt.ylabel('Residuos (erro quadrático)')\n",
    "plt.xlabel('kml (valor real)')\n",
    "plt.title('Visualização dos Resíduos do Modelo')\n",
    "plt.show()"
   ]
  },
  {
   "cell_type": "markdown",
   "metadata": {},
   "source": [
    "## Propondo RNAs MLP\n",
    "\n",
    "### Escalonando os atributos\n",
    "\n",
    "O treinamento de uma rede neural artificial é mais eficiente quando os valores que lhes são fornecidos como entrada são pequenos, pois isto favorece a convergência. Isto é feito escalonando todos os atributos para o intervalo [0,1], mas precisa ser feito de maneira cautelosa, para que informações do conjunto de teste não sejam fornecidas no treinamento.\n",
    "\n",
    "Há duas estratégias para tal escalonamento: normalização e padronização. Ambas possuem características particulares, vantagens e limitações, como é possível ver aqui: https://www.analyticsvidhya.com/blog/2020/04/feature-scaling-machine-learning-normalization-standardization/\n",
    "\n",
    "No nosso caso, vamos usar a padronização. Assim, com os atributos preditores do treinamento, isto é, X_train, deve-se subtrair a média e dividir pelo desvio padrão:\n",
    "\n",
    "X_train_std = (X_train - np.mean(X_train))/np.std(X_train)\n",
    "\n",
    "Em seguida, o mesmo deve ser feito com os atributos preditores do conjunto de testes, mas com padronização relativa ao conjunto de treinamento:\n",
    "\n",
    "X_test_std = (X_test - np.mean(X_train))/np.std(X_train)\n",
    "\n",
    "Se todo o conjunto X for utilizado na padronização, a rede neural receberá informações do conjunto de teste por meio da média e variância utilizada para preparar os dados de treinamento, o que não é desejável.\n",
    "\n",
    "\n",
    "### Proposição de uma RNA MLP de Camada Única\n",
    "\n",
    "1. Consulte a documentação em https://scikit-learn.org/stable/modules/generated/sklearn.neural_network.MLPClassifier.html\n",
    "2. Treine uma rede neural multilayer perceptron para este problema com uma única camada e dez neurônios  \n",
    "    2.1 Utilize a função de ativação ReLU  \n",
    "    2.2 Utilize o solver Adam    \n",
    "    2.3 Imprima o passo a passo do treinamento    \n",
    "    2.4 Utilize o número máximo de épocas igual a 300\n",
    "3. Obtenha o $R^2$ do conjunto de testes"
   ]
  },
  {
   "cell_type": "code",
   "execution_count": 349,
   "metadata": {
    "collapsed": true,
    "jupyter": {
     "outputs_hidden": true
    }
   },
   "outputs": [
    {
     "name": "stdout",
     "output_type": "stream",
     "text": [
      "Iteration 1, loss = 48.56093171\n",
      "Iteration 2, loss = 48.43360071\n",
      "Iteration 3, loss = 48.30589384\n",
      "Iteration 4, loss = 48.17548513\n",
      "Iteration 5, loss = 48.04456339\n",
      "Iteration 6, loss = 47.90755390\n",
      "Iteration 7, loss = 47.77017521\n",
      "Iteration 8, loss = 47.62554245\n",
      "Iteration 9, loss = 47.47565714\n",
      "Iteration 10, loss = 47.32637128\n",
      "Iteration 11, loss = 47.16649513\n",
      "Iteration 12, loss = 47.00532207\n",
      "Iteration 13, loss = 46.83784881\n",
      "Iteration 14, loss = 46.66496789\n",
      "Iteration 15, loss = 46.48880921\n",
      "Iteration 16, loss = 46.30825818\n",
      "Iteration 17, loss = 46.12297270\n",
      "Iteration 18, loss = 45.92677147\n",
      "Iteration 19, loss = 45.73641201\n",
      "Iteration 20, loss = 45.52905880\n",
      "Iteration 21, loss = 45.32311252\n",
      "Iteration 22, loss = 45.12048304\n",
      "Iteration 23, loss = 44.90545548\n",
      "Iteration 24, loss = 44.68673528\n",
      "Iteration 25, loss = 44.46161476\n",
      "Iteration 26, loss = 44.24045059\n",
      "Iteration 27, loss = 44.01185897\n",
      "Iteration 28, loss = 43.78134371\n",
      "Iteration 29, loss = 43.54440594\n",
      "Iteration 30, loss = 43.30888520\n",
      "Iteration 31, loss = 43.06648831\n",
      "Iteration 32, loss = 42.81979581\n",
      "Iteration 33, loss = 42.57140877\n",
      "Iteration 34, loss = 42.31849058\n",
      "Iteration 35, loss = 42.06017801\n",
      "Iteration 36, loss = 41.80356526\n",
      "Iteration 37, loss = 41.54000164\n",
      "Iteration 38, loss = 41.26978164\n",
      "Iteration 39, loss = 41.00413693\n",
      "Iteration 40, loss = 40.73175772\n",
      "Iteration 41, loss = 40.45751189\n",
      "Iteration 42, loss = 40.18243770\n",
      "Iteration 43, loss = 39.90539609\n",
      "Iteration 44, loss = 39.62151102\n",
      "Iteration 45, loss = 39.34516489\n",
      "Iteration 46, loss = 39.06046148\n",
      "Iteration 47, loss = 38.76802291\n",
      "Iteration 48, loss = 38.48708603\n",
      "Iteration 49, loss = 38.19942479\n",
      "Iteration 50, loss = 37.89917852\n",
      "Iteration 51, loss = 37.61397539\n",
      "Iteration 52, loss = 37.31416421\n",
      "Iteration 53, loss = 37.02058057\n",
      "Iteration 54, loss = 36.72505312\n",
      "Iteration 55, loss = 36.42632609\n",
      "Iteration 56, loss = 36.12602970\n",
      "Iteration 57, loss = 35.82556669\n",
      "Iteration 58, loss = 35.51455066\n",
      "Iteration 59, loss = 35.21586876\n",
      "Iteration 60, loss = 34.90807935\n",
      "Iteration 61, loss = 34.59841752\n",
      "Iteration 62, loss = 34.28912881\n",
      "Iteration 63, loss = 33.97582310\n",
      "Iteration 64, loss = 33.66640223\n",
      "Iteration 65, loss = 33.35546513\n",
      "Iteration 66, loss = 33.03885239\n",
      "Iteration 67, loss = 32.72201882\n",
      "Iteration 68, loss = 32.41616561\n",
      "Iteration 69, loss = 32.09345112\n",
      "Iteration 70, loss = 31.77224830\n",
      "Iteration 71, loss = 31.45961349\n",
      "Iteration 72, loss = 31.14172300\n",
      "Iteration 73, loss = 30.81582728\n",
      "Iteration 74, loss = 30.49833931\n",
      "Iteration 75, loss = 30.17124558\n",
      "Iteration 76, loss = 29.85050214\n",
      "Iteration 77, loss = 29.51833173\n",
      "Iteration 78, loss = 29.19232591\n",
      "Iteration 79, loss = 28.86426565\n",
      "Iteration 80, loss = 28.53583853\n",
      "Iteration 81, loss = 28.20366944\n",
      "Iteration 82, loss = 27.87245662\n",
      "Iteration 83, loss = 27.53713389\n",
      "Iteration 84, loss = 27.20202270\n",
      "Iteration 85, loss = 26.86723690\n",
      "Iteration 86, loss = 26.54207164\n",
      "Iteration 87, loss = 26.20613479\n",
      "Iteration 88, loss = 25.88448672\n",
      "Iteration 89, loss = 25.55205338\n",
      "Iteration 90, loss = 25.21929956\n",
      "Iteration 91, loss = 24.89111816\n",
      "Iteration 92, loss = 24.56813078\n",
      "Iteration 93, loss = 24.23842711\n",
      "Iteration 94, loss = 23.91610536\n",
      "Iteration 95, loss = 23.58771170\n",
      "Iteration 96, loss = 23.26072076\n",
      "Iteration 97, loss = 22.94742072\n",
      "Iteration 98, loss = 22.62053676\n",
      "Iteration 99, loss = 22.30361721\n",
      "Iteration 100, loss = 21.98453140\n",
      "Iteration 101, loss = 21.67917603\n",
      "Iteration 102, loss = 21.36330535\n",
      "Iteration 103, loss = 21.04418295\n",
      "Iteration 104, loss = 20.74781889\n",
      "Iteration 105, loss = 20.43678233\n",
      "Iteration 106, loss = 20.13224577\n",
      "Iteration 107, loss = 19.83237589\n",
      "Iteration 108, loss = 19.52598135\n",
      "Iteration 109, loss = 19.23018018\n",
      "Iteration 110, loss = 18.93443087\n",
      "Iteration 111, loss = 18.64542869\n",
      "Iteration 112, loss = 18.34806460\n",
      "Iteration 113, loss = 18.06896843\n",
      "Iteration 114, loss = 17.77850652\n",
      "Iteration 115, loss = 17.49514678\n",
      "Iteration 116, loss = 17.21826750\n",
      "Iteration 117, loss = 16.94018090\n",
      "Iteration 118, loss = 16.67070017\n",
      "Iteration 119, loss = 16.40386020\n",
      "Iteration 120, loss = 16.13180437\n",
      "Iteration 121, loss = 15.86852843\n",
      "Iteration 122, loss = 15.61195950\n",
      "Iteration 123, loss = 15.35282195\n",
      "Iteration 124, loss = 15.09948860\n",
      "Iteration 125, loss = 14.84801135\n",
      "Iteration 126, loss = 14.60069940\n",
      "Iteration 127, loss = 14.35389520\n",
      "Iteration 128, loss = 14.11459781\n",
      "Iteration 129, loss = 13.87453841\n",
      "Iteration 130, loss = 13.64545284\n",
      "Iteration 131, loss = 13.40960194\n",
      "Iteration 132, loss = 13.18427135\n",
      "Iteration 133, loss = 12.95312343\n",
      "Iteration 134, loss = 12.73647761\n",
      "Iteration 135, loss = 12.52265424\n",
      "Iteration 136, loss = 12.29965614\n",
      "Iteration 137, loss = 12.09074197\n",
      "Iteration 138, loss = 11.88019218\n",
      "Iteration 139, loss = 11.67533735\n",
      "Iteration 140, loss = 11.47341890\n",
      "Iteration 141, loss = 11.27020545\n",
      "Iteration 142, loss = 11.07746173\n",
      "Iteration 143, loss = 10.87610821\n",
      "Iteration 144, loss = 10.69663900\n",
      "Iteration 145, loss = 10.50406216\n",
      "Iteration 146, loss = 10.31943540\n",
      "Iteration 147, loss = 10.13757472\n",
      "Iteration 148, loss = 9.96387873\n",
      "Iteration 149, loss = 9.78602225\n",
      "Iteration 150, loss = 9.61480748\n",
      "Iteration 151, loss = 9.44821600\n",
      "Iteration 152, loss = 9.28349033\n",
      "Iteration 153, loss = 9.12589243\n",
      "Iteration 154, loss = 8.96543537\n",
      "Iteration 155, loss = 8.81524831\n",
      "Iteration 156, loss = 8.66223797\n",
      "Iteration 157, loss = 8.51441903\n",
      "Iteration 158, loss = 8.37136365\n",
      "Iteration 159, loss = 8.23115165\n",
      "Iteration 160, loss = 8.09111069\n",
      "Iteration 161, loss = 7.95518443\n",
      "Iteration 162, loss = 7.82246969\n",
      "Iteration 163, loss = 7.69074707\n",
      "Iteration 164, loss = 7.56637417\n",
      "Iteration 165, loss = 7.44202134\n",
      "Iteration 166, loss = 7.32015148\n",
      "Iteration 167, loss = 7.20233040\n",
      "Iteration 168, loss = 7.08416943\n",
      "Iteration 169, loss = 6.97676009\n",
      "Iteration 170, loss = 6.86363991\n",
      "Iteration 171, loss = 6.75450211\n",
      "Iteration 172, loss = 6.65197857\n",
      "Iteration 173, loss = 6.54812111\n",
      "Iteration 174, loss = 6.44724049\n",
      "Iteration 175, loss = 6.35049247\n",
      "Iteration 176, loss = 6.25454341\n",
      "Iteration 177, loss = 6.16003869\n",
      "Iteration 178, loss = 6.06967683\n",
      "Iteration 179, loss = 5.98153040\n",
      "Iteration 180, loss = 5.89654708\n",
      "Iteration 181, loss = 5.81240715\n",
      "Iteration 182, loss = 5.73181578\n",
      "Iteration 183, loss = 5.65025687\n",
      "Iteration 184, loss = 5.57449169\n",
      "Iteration 185, loss = 5.50070814\n",
      "Iteration 186, loss = 5.42672583\n",
      "Iteration 187, loss = 5.35571846\n",
      "Iteration 188, loss = 5.28569644\n",
      "Iteration 189, loss = 5.21920377\n",
      "Iteration 190, loss = 5.15444911\n",
      "Iteration 191, loss = 5.08938652\n",
      "Iteration 192, loss = 5.02837196\n",
      "Iteration 193, loss = 4.96714136\n",
      "Iteration 194, loss = 4.90955808\n",
      "Iteration 195, loss = 4.85209413\n",
      "Iteration 196, loss = 4.79625292\n",
      "Iteration 197, loss = 4.74221985\n",
      "Iteration 198, loss = 4.68896602\n",
      "Iteration 199, loss = 4.63708945\n",
      "Iteration 200, loss = 4.58629703\n",
      "Iteration 201, loss = 4.53764264\n",
      "Iteration 202, loss = 4.48990001\n",
      "Iteration 203, loss = 4.44287732\n",
      "Iteration 204, loss = 4.39577113\n",
      "Iteration 205, loss = 4.35238053\n",
      "Iteration 206, loss = 4.30908187\n",
      "Iteration 207, loss = 4.26712092\n",
      "Iteration 208, loss = 4.22582745\n",
      "Iteration 209, loss = 4.18652410\n",
      "Iteration 210, loss = 4.14835387\n",
      "Iteration 211, loss = 4.11083558\n",
      "Iteration 212, loss = 4.07421998\n",
      "Iteration 213, loss = 4.03917727\n",
      "Iteration 214, loss = 4.00539760\n",
      "Iteration 215, loss = 3.97111492\n",
      "Iteration 216, loss = 3.93957560\n",
      "Iteration 217, loss = 3.90773819\n",
      "Iteration 218, loss = 3.87710382\n",
      "Iteration 219, loss = 3.84489298\n",
      "Iteration 220, loss = 3.81618107\n",
      "Iteration 221, loss = 3.78774830\n",
      "Iteration 222, loss = 3.75765335\n",
      "Iteration 223, loss = 3.72940569\n",
      "Iteration 224, loss = 3.70319686\n",
      "Iteration 225, loss = 3.67639806\n",
      "Iteration 226, loss = 3.65032384\n",
      "Iteration 227, loss = 3.62349414\n",
      "Iteration 228, loss = 3.59945368\n",
      "Iteration 229, loss = 3.57412113\n",
      "Iteration 230, loss = 3.55086598\n",
      "Iteration 231, loss = 3.52686967\n",
      "Iteration 232, loss = 3.50370766\n",
      "Iteration 233, loss = 3.48127823\n",
      "Iteration 234, loss = 3.45849478\n",
      "Iteration 235, loss = 3.43684555\n",
      "Iteration 236, loss = 3.41595311\n",
      "Iteration 237, loss = 3.39434145\n",
      "Iteration 238, loss = 3.37501179\n",
      "Iteration 239, loss = 3.35445177\n",
      "Iteration 240, loss = 3.33484000\n",
      "Iteration 241, loss = 3.31554551\n",
      "Iteration 242, loss = 3.29676064\n",
      "Iteration 243, loss = 3.27779246\n",
      "Iteration 244, loss = 3.25972213\n",
      "Iteration 245, loss = 3.24231070\n",
      "Iteration 246, loss = 3.22359983\n",
      "Iteration 247, loss = 3.20682445\n",
      "Iteration 248, loss = 3.18894368\n",
      "Iteration 249, loss = 3.17294090\n",
      "Iteration 250, loss = 3.15586268\n",
      "Iteration 251, loss = 3.13913567\n",
      "Iteration 252, loss = 3.12357800\n",
      "Iteration 253, loss = 3.10692965\n",
      "Iteration 254, loss = 3.09174231\n",
      "Iteration 255, loss = 3.07553930\n",
      "Iteration 256, loss = 3.06097891\n",
      "Iteration 257, loss = 3.04493638\n",
      "Iteration 258, loss = 3.03021485\n",
      "Iteration 259, loss = 3.01523287\n",
      "Iteration 260, loss = 3.00030158\n",
      "Iteration 261, loss = 2.98615989\n",
      "Iteration 262, loss = 2.97236742\n",
      "Iteration 263, loss = 2.95719784\n",
      "Iteration 264, loss = 2.94384860\n",
      "Iteration 265, loss = 2.92997327\n",
      "Iteration 266, loss = 2.91587286\n",
      "Iteration 267, loss = 2.90238911\n",
      "Iteration 268, loss = 2.88986876\n",
      "Iteration 269, loss = 2.87581353\n",
      "Iteration 270, loss = 2.86284332\n",
      "Iteration 271, loss = 2.85005275\n",
      "Iteration 272, loss = 2.83674391\n",
      "Iteration 273, loss = 2.82448814\n",
      "Iteration 274, loss = 2.81169870\n",
      "Iteration 275, loss = 2.79958445\n",
      "Iteration 276, loss = 2.78711473\n",
      "Iteration 277, loss = 2.77474949\n",
      "Iteration 278, loss = 2.76292126\n",
      "Iteration 279, loss = 2.75070791\n",
      "Iteration 280, loss = 2.73896353\n",
      "Iteration 281, loss = 2.72764811\n",
      "Iteration 282, loss = 2.71606317\n",
      "Iteration 283, loss = 2.70435165\n",
      "Iteration 284, loss = 2.69285826\n",
      "Iteration 285, loss = 2.68163757\n",
      "Iteration 286, loss = 2.67053198\n",
      "Iteration 287, loss = 2.65901704\n",
      "Iteration 288, loss = 2.64810330\n",
      "Iteration 289, loss = 2.63735822\n",
      "Iteration 290, loss = 2.62610401\n",
      "Iteration 291, loss = 2.61559823\n",
      "Iteration 292, loss = 2.60370870\n",
      "Iteration 293, loss = 2.59327589\n",
      "Iteration 294, loss = 2.58316531\n",
      "Iteration 295, loss = 2.57248903\n",
      "Iteration 296, loss = 2.56148458\n",
      "Iteration 297, loss = 2.55117562\n",
      "Iteration 298, loss = 2.54088520\n",
      "Iteration 299, loss = 2.53060249\n",
      "Iteration 300, loss = 2.52002415\n",
      "R² da MLP no conjunto de testes: 0.4176461722100132\n"
     ]
    },
    {
     "name": "stderr",
     "output_type": "stream",
     "text": [
      "c:\\Users\\caiob\\AppData\\Local\\Programs\\Python\\Python312\\Lib\\site-packages\\sklearn\\neural_network\\_multilayer_perceptron.py:691: ConvergenceWarning: Stochastic Optimizer: Maximum iterations (300) reached and the optimization hasn't converged yet.\n",
      "  warnings.warn(\n"
     ]
    }
   ],
   "source": [
    "scaler = StandardScaler()\n",
    "X_train_std = scaler.fit_transform(X_train)\n",
    "X_test_std = scaler.transform(X_test)\n",
    "\n",
    "mlp = MLPRegressor(\n",
    "    hidden_layer_sizes=(10,),\n",
    "    activation='relu',\n",
    "    solver='adam',\n",
    "    verbose=True,\n",
    "    max_iter=300,\n",
    ")\n",
    "\n",
    "mlp.fit(X_train_std, Y_train)\n",
    "\n",
    "y_pred_mlp = mlp.predict(X_test_std)\n",
    "\n",
    "r2_mlp = r2_score(Y_test, y_pred_mlp)\n",
    "print(f'R² da MLP no conjunto de testes: {r2_mlp}')\n"
   ]
  },
  {
   "cell_type": "markdown",
   "metadata": {
    "jupyter": {
     "outputs_hidden": true
    }
   },
   "source": [
    "### Proposição de uma RNA MLP com duas camadas ocultas\n",
    "\n",
    "1. Treine uma rede neural multilayer perceptron para este problema com duas camadas ocultas, com número de neurônios à sua escolha  \n",
    "    2.1 Utilize a função de ativação ReLU  \n",
    "    2.2 Utilize o solver Adam    \n",
    "    2.3 Imprima o passo a passo do treinamento    \n",
    "    2.4 Utilize o número máximo de épocas igual a 300\n",
    "2. Obtenha o $R^2$ do conjunto de testes"
   ]
  },
  {
   "cell_type": "code",
   "execution_count": 350,
   "metadata": {},
   "outputs": [
    {
     "name": "stdout",
     "output_type": "stream",
     "text": [
      "Iteration 1, loss = 59.42294106\n",
      "Iteration 2, loss = 59.02259810\n",
      "Iteration 3, loss = 58.61964630\n",
      "Iteration 4, loss = 58.22746619\n",
      "Iteration 5, loss = 57.83730554\n",
      "Iteration 6, loss = 57.44508893\n",
      "Iteration 7, loss = 57.05173309\n",
      "Iteration 8, loss = 56.65895816\n",
      "Iteration 9, loss = 56.26828734\n",
      "Iteration 10, loss = 55.87016754\n",
      "Iteration 11, loss = 55.47308050\n",
      "Iteration 12, loss = 55.08004242\n",
      "Iteration 13, loss = 54.68097490\n",
      "Iteration 14, loss = 54.27907828\n",
      "Iteration 15, loss = 53.87661086\n",
      "Iteration 16, loss = 53.47549871\n",
      "Iteration 17, loss = 53.06061495\n",
      "Iteration 18, loss = 52.64937970\n",
      "Iteration 19, loss = 52.24230237\n",
      "Iteration 20, loss = 51.81352860\n",
      "Iteration 21, loss = 51.39244509\n",
      "Iteration 22, loss = 50.95754362\n",
      "Iteration 23, loss = 50.51613551\n",
      "Iteration 24, loss = 50.06800191\n",
      "Iteration 25, loss = 49.61305334\n",
      "Iteration 26, loss = 49.14352401\n",
      "Iteration 27, loss = 48.66296590\n",
      "Iteration 28, loss = 48.18034368\n",
      "Iteration 29, loss = 47.67456633\n",
      "Iteration 30, loss = 47.15923240\n",
      "Iteration 31, loss = 46.63614506\n",
      "Iteration 32, loss = 46.09665466\n",
      "Iteration 33, loss = 45.54749054\n",
      "Iteration 34, loss = 44.98212736\n",
      "Iteration 35, loss = 44.41093593\n",
      "Iteration 36, loss = 43.81443965\n",
      "Iteration 37, loss = 43.19954276\n",
      "Iteration 38, loss = 42.57846886\n",
      "Iteration 39, loss = 41.93311986\n",
      "Iteration 40, loss = 41.28825367\n",
      "Iteration 41, loss = 40.60534634\n",
      "Iteration 42, loss = 39.91789461\n",
      "Iteration 43, loss = 39.21297140\n",
      "Iteration 44, loss = 38.48893107\n",
      "Iteration 45, loss = 37.76054297\n",
      "Iteration 46, loss = 37.00089129\n",
      "Iteration 47, loss = 36.23145441\n",
      "Iteration 48, loss = 35.41858109\n",
      "Iteration 49, loss = 34.62561342\n",
      "Iteration 50, loss = 33.79195663\n",
      "Iteration 51, loss = 32.94438414\n",
      "Iteration 52, loss = 32.09173138\n",
      "Iteration 53, loss = 31.20588804\n",
      "Iteration 54, loss = 30.33085905\n",
      "Iteration 55, loss = 29.43741192\n",
      "Iteration 56, loss = 28.51997073\n",
      "Iteration 57, loss = 27.59397968\n",
      "Iteration 58, loss = 26.69571025\n",
      "Iteration 59, loss = 25.73794815\n",
      "Iteration 60, loss = 24.82512627\n",
      "Iteration 61, loss = 23.89017199\n",
      "Iteration 62, loss = 22.96011382\n",
      "Iteration 63, loss = 22.04697966\n",
      "Iteration 64, loss = 21.11611716\n",
      "Iteration 65, loss = 20.19559828\n",
      "Iteration 66, loss = 19.30299142\n",
      "Iteration 67, loss = 18.43289350\n",
      "Iteration 68, loss = 17.53358708\n",
      "Iteration 69, loss = 16.65479218\n",
      "Iteration 70, loss = 15.80613680\n",
      "Iteration 71, loss = 14.98293478\n",
      "Iteration 72, loss = 14.17276226\n",
      "Iteration 73, loss = 13.35328780\n",
      "Iteration 74, loss = 12.63428149\n",
      "Iteration 75, loss = 11.86725497\n",
      "Iteration 76, loss = 11.18394343\n",
      "Iteration 77, loss = 10.48741661\n",
      "Iteration 78, loss = 9.86924003\n",
      "Iteration 79, loss = 9.25303830\n",
      "Iteration 80, loss = 8.67553714\n",
      "Iteration 81, loss = 8.14796008\n",
      "Iteration 82, loss = 7.63238218\n",
      "Iteration 83, loss = 7.18150888\n",
      "Iteration 84, loss = 6.73372435\n",
      "Iteration 85, loss = 6.33059128\n",
      "Iteration 86, loss = 5.96824636\n",
      "Iteration 87, loss = 5.63863510\n",
      "Iteration 88, loss = 5.33193856\n",
      "Iteration 89, loss = 5.05629988\n",
      "Iteration 90, loss = 4.81140405\n",
      "Iteration 91, loss = 4.59041965\n",
      "Iteration 92, loss = 4.39623698\n",
      "Iteration 93, loss = 4.22332942\n",
      "Iteration 94, loss = 4.06230863\n",
      "Iteration 95, loss = 3.92402730\n",
      "Iteration 96, loss = 3.79957939\n",
      "Iteration 97, loss = 3.69403446\n",
      "Iteration 98, loss = 3.58914736\n",
      "Iteration 99, loss = 3.50016433\n",
      "Iteration 100, loss = 3.41297991\n",
      "Iteration 101, loss = 3.33957757\n",
      "Iteration 102, loss = 3.26837130\n",
      "Iteration 103, loss = 3.20381072\n",
      "Iteration 104, loss = 3.14098809\n",
      "Iteration 105, loss = 3.08064487\n",
      "Iteration 106, loss = 3.02424339\n",
      "Iteration 107, loss = 2.97080737\n",
      "Iteration 108, loss = 2.91959344\n",
      "Iteration 109, loss = 2.86869418\n",
      "Iteration 110, loss = 2.82130860\n",
      "Iteration 111, loss = 2.77168773\n",
      "Iteration 112, loss = 2.72271270\n",
      "Iteration 113, loss = 2.67839291\n",
      "Iteration 114, loss = 2.63316047\n",
      "Iteration 115, loss = 2.58901798\n",
      "Iteration 116, loss = 2.54500355\n",
      "Iteration 117, loss = 2.50449671\n",
      "Iteration 118, loss = 2.46184857\n",
      "Iteration 119, loss = 2.42144889\n",
      "Iteration 120, loss = 2.38257363\n",
      "Iteration 121, loss = 2.34286712\n",
      "Iteration 122, loss = 2.30550921\n",
      "Iteration 123, loss = 2.26946814\n",
      "Iteration 124, loss = 2.23336233\n",
      "Iteration 125, loss = 2.19720532\n",
      "Iteration 126, loss = 2.16316929\n",
      "Iteration 127, loss = 2.13084617\n",
      "Iteration 128, loss = 2.09836852\n",
      "Iteration 129, loss = 2.06697568\n",
      "Iteration 130, loss = 2.03654569\n",
      "Iteration 131, loss = 2.00630360\n",
      "Iteration 132, loss = 1.97733583\n",
      "Iteration 133, loss = 1.94839236\n",
      "Iteration 134, loss = 1.92130980\n",
      "Iteration 135, loss = 1.89272025\n",
      "Iteration 136, loss = 1.86600122\n",
      "Iteration 137, loss = 1.84138728\n",
      "Iteration 138, loss = 1.81531586\n",
      "Iteration 139, loss = 1.79170494\n",
      "Iteration 140, loss = 1.76671818\n",
      "Iteration 141, loss = 1.74382134\n",
      "Iteration 142, loss = 1.72197269\n",
      "Iteration 143, loss = 1.69954729\n",
      "Iteration 144, loss = 1.67966075\n",
      "Iteration 145, loss = 1.65890393\n",
      "Iteration 146, loss = 1.63962972\n",
      "Iteration 147, loss = 1.62062496\n",
      "Iteration 148, loss = 1.60263995\n",
      "Iteration 149, loss = 1.58465265\n",
      "Iteration 150, loss = 1.56682392\n",
      "Iteration 151, loss = 1.55085379\n",
      "Iteration 152, loss = 1.53458292\n",
      "Iteration 153, loss = 1.51810364\n",
      "Iteration 154, loss = 1.50297926\n",
      "Iteration 155, loss = 1.48767316\n",
      "Iteration 156, loss = 1.47300626\n",
      "Iteration 157, loss = 1.45909144\n",
      "Iteration 158, loss = 1.44492671\n",
      "Iteration 159, loss = 1.43232610\n",
      "Iteration 160, loss = 1.41915961\n",
      "Iteration 161, loss = 1.40613952\n",
      "Iteration 162, loss = 1.39453190\n",
      "Iteration 163, loss = 1.38255283\n",
      "Iteration 164, loss = 1.37126828\n",
      "Iteration 165, loss = 1.36018776\n",
      "Iteration 166, loss = 1.34927600\n",
      "Iteration 167, loss = 1.33820369\n",
      "Iteration 168, loss = 1.32783105\n",
      "Iteration 169, loss = 1.31847060\n",
      "Iteration 170, loss = 1.30824656\n",
      "Iteration 171, loss = 1.29855292\n",
      "Iteration 172, loss = 1.28920738\n",
      "Iteration 173, loss = 1.28023618\n",
      "Iteration 174, loss = 1.27150198\n",
      "Iteration 175, loss = 1.26285935\n",
      "Iteration 176, loss = 1.25381494\n",
      "Iteration 177, loss = 1.24629708\n",
      "Iteration 178, loss = 1.23814428\n",
      "Iteration 179, loss = 1.23027770\n",
      "Iteration 180, loss = 1.22213641\n",
      "Iteration 181, loss = 1.21495560\n",
      "Iteration 182, loss = 1.20758676\n",
      "Iteration 183, loss = 1.20061446\n",
      "Iteration 184, loss = 1.19329233\n",
      "Iteration 185, loss = 1.18693993\n",
      "Iteration 186, loss = 1.18047359\n",
      "Iteration 187, loss = 1.17415109\n",
      "Iteration 188, loss = 1.16781905\n",
      "Iteration 189, loss = 1.16231721\n",
      "Iteration 190, loss = 1.15646030\n",
      "Iteration 191, loss = 1.15067011\n",
      "Iteration 192, loss = 1.14513862\n",
      "Iteration 193, loss = 1.13982369\n",
      "Iteration 194, loss = 1.13459729\n",
      "Iteration 195, loss = 1.12913596\n",
      "Iteration 196, loss = 1.12398256\n",
      "Iteration 197, loss = 1.11907270\n",
      "Iteration 198, loss = 1.11403894\n",
      "Iteration 199, loss = 1.10901400\n",
      "Iteration 200, loss = 1.10428985\n",
      "Iteration 201, loss = 1.09934744\n",
      "Iteration 202, loss = 1.09459352\n",
      "Iteration 203, loss = 1.08993428\n",
      "Iteration 204, loss = 1.08547435\n",
      "Iteration 205, loss = 1.08082165\n",
      "Iteration 206, loss = 1.07673847\n",
      "Iteration 207, loss = 1.07242559\n",
      "Iteration 208, loss = 1.06820461\n",
      "Iteration 209, loss = 1.06431706\n",
      "Iteration 210, loss = 1.06034522\n",
      "Iteration 211, loss = 1.05670780\n",
      "Iteration 212, loss = 1.05302403\n",
      "Iteration 213, loss = 1.04962290\n",
      "Iteration 214, loss = 1.04581547\n",
      "Iteration 215, loss = 1.04228997\n",
      "Iteration 216, loss = 1.03886969\n",
      "Iteration 217, loss = 1.03532653\n",
      "Iteration 218, loss = 1.03191441\n",
      "Iteration 219, loss = 1.02858648\n",
      "Iteration 220, loss = 1.02486658\n",
      "Iteration 221, loss = 1.02157609\n",
      "Iteration 222, loss = 1.01833635\n",
      "Iteration 223, loss = 1.01505420\n",
      "Iteration 224, loss = 1.01177837\n",
      "Iteration 225, loss = 1.00847523\n",
      "Iteration 226, loss = 1.00559789\n",
      "Iteration 227, loss = 1.00260461\n",
      "Iteration 228, loss = 0.99931089\n",
      "Iteration 229, loss = 0.99619306\n",
      "Iteration 230, loss = 0.99347515\n",
      "Iteration 231, loss = 0.99062025\n",
      "Iteration 232, loss = 0.98804522\n",
      "Iteration 233, loss = 0.98511508\n",
      "Iteration 234, loss = 0.98264634\n",
      "Iteration 235, loss = 0.97990449\n",
      "Iteration 236, loss = 0.97739311\n",
      "Iteration 237, loss = 0.97474821\n",
      "Iteration 238, loss = 0.97244896\n",
      "Iteration 239, loss = 0.96980637\n",
      "Iteration 240, loss = 0.96750604\n",
      "Iteration 241, loss = 0.96510649\n",
      "Iteration 242, loss = 0.96273007\n",
      "Iteration 243, loss = 0.96038706\n",
      "Iteration 244, loss = 0.95811074\n",
      "Iteration 245, loss = 0.95583529\n",
      "Iteration 246, loss = 0.95381394\n",
      "Iteration 247, loss = 0.95185317\n",
      "Iteration 248, loss = 0.94925293\n",
      "Iteration 249, loss = 0.94729801\n",
      "Iteration 250, loss = 0.94515134\n",
      "Iteration 251, loss = 0.94298984\n",
      "Iteration 252, loss = 0.94086009\n",
      "Iteration 253, loss = 0.93885963\n",
      "Iteration 254, loss = 0.93700561\n",
      "Iteration 255, loss = 0.93483561\n",
      "Iteration 256, loss = 0.93289277\n",
      "Iteration 257, loss = 0.93109825\n",
      "Iteration 258, loss = 0.92890467\n",
      "Iteration 259, loss = 0.92720141\n",
      "Iteration 260, loss = 0.92513932\n",
      "Iteration 261, loss = 0.92344037\n",
      "Iteration 262, loss = 0.92165477\n",
      "Iteration 263, loss = 0.91977161\n",
      "Iteration 264, loss = 0.91806036\n",
      "Iteration 265, loss = 0.91631889\n",
      "Iteration 266, loss = 0.91443198\n",
      "Iteration 267, loss = 0.91342991\n",
      "Iteration 268, loss = 0.91140973\n",
      "Iteration 269, loss = 0.90987979\n",
      "Iteration 270, loss = 0.90823080\n",
      "Iteration 271, loss = 0.90662144\n",
      "Iteration 272, loss = 0.90526769\n",
      "Iteration 273, loss = 0.90387428\n",
      "Iteration 274, loss = 0.90233077\n",
      "Iteration 275, loss = 0.90089173\n",
      "Iteration 276, loss = 0.89965504\n",
      "Iteration 277, loss = 0.89808913\n",
      "Iteration 278, loss = 0.89661033\n",
      "Iteration 279, loss = 0.89528136\n",
      "Iteration 280, loss = 0.89369819\n",
      "Iteration 281, loss = 0.89232678\n",
      "Iteration 282, loss = 0.89111844\n",
      "Iteration 283, loss = 0.88982413\n",
      "Iteration 284, loss = 0.88850539\n",
      "Iteration 285, loss = 0.88735087\n",
      "Iteration 286, loss = 0.88601470\n",
      "Iteration 287, loss = 0.88493779\n",
      "Iteration 288, loss = 0.88384908\n",
      "Iteration 289, loss = 0.88234172\n",
      "Iteration 290, loss = 0.88126408\n",
      "Iteration 291, loss = 0.87995070\n",
      "Iteration 292, loss = 0.87889802\n",
      "Iteration 293, loss = 0.87782830\n",
      "Iteration 294, loss = 0.87668579\n",
      "Iteration 295, loss = 0.87559301\n",
      "Iteration 296, loss = 0.87454478\n",
      "Iteration 297, loss = 0.87336772\n",
      "Iteration 298, loss = 0.87231079\n",
      "Iteration 299, loss = 0.87144675\n",
      "Iteration 300, loss = 0.87012383\n",
      "R² da MLP com duas camadas ocultas no conjunto de testes: 0.8200335657855647\n"
     ]
    },
    {
     "name": "stderr",
     "output_type": "stream",
     "text": [
      "c:\\Users\\caiob\\AppData\\Local\\Programs\\Python\\Python312\\Lib\\site-packages\\sklearn\\neural_network\\_multilayer_perceptron.py:691: ConvergenceWarning: Stochastic Optimizer: Maximum iterations (300) reached and the optimization hasn't converged yet.\n",
      "  warnings.warn(\n"
     ]
    }
   ],
   "source": [
    "mlp2 = MLPRegressor(\n",
    "    hidden_layer_sizes=(20, 10),\n",
    "    activation='relu',\n",
    "    solver='adam',\n",
    "    verbose=True,\n",
    "    max_iter=300,\n",
    ")\n",
    "\n",
    "mlp2.fit(X_train_std, Y_train)\n",
    "\n",
    "y_pred_mlp2 = mlp2.predict(X_test_std)\n",
    "\n",
    "r2_mlp2 = r2_score(Y_test, y_pred_mlp2)\n",
    "print(f'R² da MLP com duas camadas ocultas no conjunto de testes: {r2_mlp2}')"
   ]
  },
  {
   "cell_type": "markdown",
   "metadata": {},
   "source": [
    "### Para Discussão\n",
    "\n",
    "- Qual melhor modelo para este problema?"
   ]
  },
  {
   "cell_type": "markdown",
   "metadata": {},
   "source": [
    "Acredito que depende um pouco, por exemplo, nesse problema, como o ganho de R² não é muito alto, o modelo com uma camada ou até mesmo a regressão linewar pode ser melhor por ser mais simples e rápido, mas se o Mlp com 2 camadas obtiver um R² significativamente melhor no teste sem overfitting, ele é o melhor modelo"
   ]
  },
  {
   "cell_type": "code",
   "execution_count": null,
   "metadata": {},
   "outputs": [],
   "source": []
  },
  {
   "cell_type": "code",
   "execution_count": null,
   "metadata": {},
   "outputs": [],
   "source": []
  }
 ],
 "metadata": {
  "kernelspec": {
   "display_name": "Python 3",
   "language": "python",
   "name": "python3"
  },
  "language_info": {
   "codemirror_mode": {
    "name": "ipython",
    "version": 3
   },
   "file_extension": ".py",
   "mimetype": "text/x-python",
   "name": "python",
   "nbconvert_exporter": "python",
   "pygments_lexer": "ipython3",
   "version": "3.12.2"
  }
 },
 "nbformat": 4,
 "nbformat_minor": 4
}
