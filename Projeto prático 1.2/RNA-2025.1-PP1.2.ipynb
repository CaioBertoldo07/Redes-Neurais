{
 "cells": [
  {
   "cell_type": "markdown",
   "metadata": {
    "id": "7PN3m79KLuKR"
   },
   "source": [
    "## Atividade Avaliativa 1.2 -- Classificando a Idade do Abalone\n",
    "\n",
    "O Abalone é um gênero (_Haliotis_) de um moluscos gastrópodes marinhos da família _Haliotidae_. Foi identificado por Linnaeus em 1758 e suas diversas espécies podem ser encontradas em águas costeiras de quase todo o mundo. É usado na indústria alimentícia e em itens decorativos, tais como jóias ou instrumentos musicais [1](https://pt.wikipedia.org/wiki/Abalone). A idade do abalone pode ser obtida diretamente a partir de medidas físicas, porém é necessário cortar a concha, efetuar um processo de pigmentação, e então contar o número de anéis por meio de um microscópio -- tarefa considerada monótona e custosa [2](https://archive.ics.uci.edu/ml/datasets/Abalone).\n",
    "\n",
    "Outras medidas do Abalone, entretanto, são mais fáceis de obter, não danificam a concha e podem ser utilizadas para estimar a idade com um modelo inteligente por meio de um processo de Aprendizado Supervisionado. Esse é o objetivo do presente projeto prático.\n",
    "\n",
    "Base de dados original: https://archive.ics.uci.edu/ml/datasets/Abalone  \n",
    "Base de dados preparada: abalone.csv (Disponível no Google Classroom)"
   ]
  },
  {
   "cell_type": "markdown",
   "metadata": {
    "id": "S6CONsDLLuKV"
   },
   "source": [
    "### Bibliotecas\n",
    "\n",
    "Por hábito, a primeira célula do notebook costuma ser reservada para importação de bibliotecas.\n",
    "A cada biblioteca nova acrescida, é necessário executar a célula para atualização e correta execução."
   ]
  },
  {
   "cell_type": "code",
   "execution_count": 3,
   "metadata": {
    "id": "tYTR3u4LLuKW"
   },
   "outputs": [],
   "source": [
    "import pandas as pd\n",
    "import numpy as np\n",
    "import matplotlib.pyplot as plt"
   ]
  },
  {
   "cell_type": "markdown",
   "metadata": {
    "id": "56D_Tbf5LuKX"
   },
   "source": [
    "## Parte 1 - Análise e Exploração de Dados"
   ]
  },
  {
   "cell_type": "markdown",
   "metadata": {
    "id": "PWwxE2MfLuKX"
   },
   "source": [
    "### Abertura do Dataset\n",
    "Abra o dataset e visualize o seu cabeçalho, isto é, os primeiros exemplos nele contidos. Isto é útil para checar se a importação foi realizada de maneira adequada e se a disposição dos dados está de acordo para os próximos passos do trabalho."
   ]
  },
  {
   "cell_type": "code",
   "execution_count": null,
   "metadata": {
    "executionInfo": {
     "elapsed": 18,
     "status": "ok",
     "timestamp": 1742401260468,
     "user": {
      "displayName": "Caio Bertoldo Bezerra",
      "userId": "03228871005270311665"
     },
     "user_tz": 240
    },
    "id": "PMqf6fS7LuKX"
   },
   "outputs": [
    {
     "data": {
      "text/html": [
       "<div>\n",
       "<style scoped>\n",
       "    .dataframe tbody tr th:only-of-type {\n",
       "        vertical-align: middle;\n",
       "    }\n",
       "\n",
       "    .dataframe tbody tr th {\n",
       "        vertical-align: top;\n",
       "    }\n",
       "\n",
       "    .dataframe thead th {\n",
       "        text-align: right;\n",
       "    }\n",
       "</style>\n",
       "<table border=\"1\" class=\"dataframe\">\n",
       "  <thead>\n",
       "    <tr style=\"text-align: right;\">\n",
       "      <th></th>\n",
       "      <th>Sex,Length,Diameter,Height,Whole weight,Shucked weight,Viscera weight,Shell weight,Age</th>\n",
       "    </tr>\n",
       "  </thead>\n",
       "  <tbody>\n",
       "    <tr>\n",
       "      <th>0</th>\n",
       "      <td>M,0.35,0.265,0.09,0.2255,0.0995,0.0485,0.07,7</td>\n",
       "    </tr>\n",
       "    <tr>\n",
       "      <th>1</th>\n",
       "      <td>F,0.53,0.42,0.135,0.677,0.2565,0.1415,0.21,9</td>\n",
       "    </tr>\n",
       "    <tr>\n",
       "      <th>2</th>\n",
       "      <td>M,0.44,0.365,0.125,0.516,0.2155,0.114,0.155,10</td>\n",
       "    </tr>\n",
       "    <tr>\n",
       "      <th>3</th>\n",
       "      <td>I,0.33,0.255,0.08,0.205,0.0895,0.0395,0.055,7</td>\n",
       "    </tr>\n",
       "    <tr>\n",
       "      <th>4</th>\n",
       "      <td>I,0.425,0.3,0.095,0.3515,0.141,0.0775,0.12,8</td>\n",
       "    </tr>\n",
       "  </tbody>\n",
       "</table>\n",
       "</div>"
      ],
      "text/plain": [
       "  Sex,Length,Diameter,Height,Whole weight,Shucked weight,Viscera weight,Shell weight,Age\n",
       "0      M,0.35,0.265,0.09,0.2255,0.0995,0.0485,0.07,7                                    \n",
       "1       F,0.53,0.42,0.135,0.677,0.2565,0.1415,0.21,9                                    \n",
       "2     M,0.44,0.365,0.125,0.516,0.2155,0.114,0.155,10                                    \n",
       "3      I,0.33,0.255,0.08,0.205,0.0895,0.0395,0.055,7                                    \n",
       "4       I,0.425,0.3,0.095,0.3515,0.141,0.0775,0.12,8                                    "
      ]
     },
     "execution_count": 17,
     "metadata": {},
     "output_type": "execute_result"
    }
   ],
   "source": [
    "df = pd.read_excel(r\"C:\\Users\\STEM - BEX\\Documents\\GitHub\\Redes-Neurais\\Projeto prático 1.2\\abalone.xlsx\", engine=\"openpyxl\")\n",
    "df.head()\n"
   ]
  },
  {
   "cell_type": "markdown",
   "metadata": {
    "id": "N1SVeigwLuKY"
   },
   "source": [
    "### Conhecendo o dataset\n",
    "\n",
    "Para praticar conceitos relativos à exploração do conjunto de dados, utilize as células a seguir para prover respostas para cada uma das respostas elencadas"
   ]
  },
  {
   "cell_type": "code",
   "execution_count": null,
   "metadata": {
    "executionInfo": {
     "elapsed": 9,
     "status": "ok",
     "timestamp": 1742401260488,
     "user": {
      "displayName": "Caio Bertoldo Bezerra",
      "userId": "03228871005270311665"
     },
     "user_tz": 240
    },
    "id": "4F0aNQ9wLuKY"
   },
   "outputs": [],
   "source": []
  },
  {
   "cell_type": "markdown",
   "metadata": {
    "id": "L7z8rUSjLuKY"
   },
   "source": [
    "#### Quantos exemplos há no dataset?"
   ]
  },
  {
   "cell_type": "code",
   "execution_count": 19,
   "metadata": {
    "executionInfo": {
     "elapsed": 52,
     "status": "ok",
     "timestamp": 1742401260539,
     "user": {
      "displayName": "Caio Bertoldo Bezerra",
      "userId": "03228871005270311665"
     },
     "user_tz": 240
    },
    "id": "O1fos2_vLuKZ"
   },
   "outputs": [
    {
     "name": "stdout",
     "output_type": "stream",
     "text": [
      "Total de exemplos: 4176\n"
     ]
    }
   ],
   "source": [
    "print(f'Total de exemplos: {df.shape[0]}')"
   ]
  },
  {
   "cell_type": "markdown",
   "metadata": {
    "id": "zR4HjAi0LuKZ"
   },
   "source": [
    "#### Quais os atributos existentes no dataset e seu tipo?"
   ]
  },
  {
   "cell_type": "code",
   "execution_count": 22,
   "metadata": {
    "executionInfo": {
     "elapsed": 23,
     "status": "ok",
     "timestamp": 1742401260568,
     "user": {
      "displayName": "Caio Bertoldo Bezerra",
      "userId": "03228871005270311665"
     },
     "user_tz": 240
    },
    "id": "ka5_IS0zLuKZ"
   },
   "outputs": [
    {
     "name": "stdout",
     "output_type": "stream",
     "text": [
      "<class 'pandas.core.frame.DataFrame'>\n",
      "RangeIndex: 4176 entries, 0 to 4175\n",
      "Data columns (total 1 columns):\n",
      " #   Column                                                                                  Non-Null Count  Dtype \n",
      "---  ------                                                                                  --------------  ----- \n",
      " 0   Sex,Length,Diameter,Height,Whole weight,Shucked weight,Viscera weight,Shell weight,Age  4176 non-null   object\n",
      "dtypes: object(1)\n",
      "memory usage: 32.8+ KB\n"
     ]
    }
   ],
   "source": [
    "df.info()"
   ]
  },
  {
   "cell_type": "markdown",
   "metadata": {
    "id": "BwTNeXw-LuKZ"
   },
   "source": [
    "#### Quantos a idade do abalone mais velho presente na base de dados? Quais seus atributos?"
   ]
  },
  {
   "cell_type": "code",
   "execution_count": null,
   "metadata": {
    "executionInfo": {
     "elapsed": 1,
     "status": "ok",
     "timestamp": 1742401260573,
     "user": {
      "displayName": "Caio Bertoldo Bezerra",
      "userId": "03228871005270311665"
     },
     "user_tz": 240
    },
    "id": "YhMQsPdRLuKZ"
   },
   "outputs": [],
   "source": []
  },
  {
   "cell_type": "markdown",
   "metadata": {
    "id": "Txx2r6dzLuKa"
   },
   "source": [
    "#### Histograma das idades\n",
    "\n",
    "O histograma é um gráfico que mostra as frequências de uma determinada informação. No nosso caso, vamos construir um histograma que mostra as idades dos abalones. Vamos agrupar as idades em dez bins (caixas).\n",
    "\n",
    "Ao ler o gráfico, veremos dez barras (bins). Elas sintetizam quantos abalones daquela faixa de idade existem no dataset. Os bins são partições do total de valores em 10 partes de mesmo tamanho.\n",
    "\n",
    "Documentação completa disponível em: https://matplotlib.org/stable/api/_as_gen/matplotlib.pyplot.hist.html\n"
   ]
  },
  {
   "cell_type": "code",
   "execution_count": null,
   "metadata": {
    "executionInfo": {
     "elapsed": 1,
     "status": "ok",
     "timestamp": 1742401260580,
     "user": {
      "displayName": "Caio Bertoldo Bezerra",
      "userId": "03228871005270311665"
     },
     "user_tz": 240
    },
    "id": "0MmtALHgLuKa"
   },
   "outputs": [],
   "source": []
  },
  {
   "cell_type": "markdown",
   "metadata": {
    "id": "KU8oMGB4LuKa"
   },
   "source": [
    "#### Boxplot das idades\n",
    "\n",
    "Como é a distribuição dos valores das idades dos abalones? O gráfico boxplot pode nos ajudar nesta questão.\n",
    "\n",
    "O boxplot ilustra informações importantes:\n",
    "- Mediana\n",
    "- Limite inferior (menor valor)\n",
    "- Limite superior (maior valor)\n",
    "- Q1 (primeiro quartil, 25% dos dados)\n",
    "- Q3 (terceiro quartil, 75% dos dados)\n",
    "- Outliers (se houver)\n",
    "\n",
    "A distribuição dos exemplos no dataset é simétrica no tocante à idade? Elabore um parágrafo que justifique as conclusões obtidas a partir da análise do boxplot.\n",
    "\n",
    "Documentação completa disponível em: https://matplotlib.org/stable/api/_as_gen/matplotlib.pyplot.boxplot.html"
   ]
  },
  {
   "cell_type": "code",
   "execution_count": null,
   "metadata": {
    "executionInfo": {
     "elapsed": 10,
     "status": "ok",
     "timestamp": 1742401260591,
     "user": {
      "displayName": "Caio Bertoldo Bezerra",
      "userId": "03228871005270311665"
     },
     "user_tz": 240
    },
    "id": "3R310rqtLuKa"
   },
   "outputs": [],
   "source": []
  },
  {
   "cell_type": "markdown",
   "metadata": {
    "id": "C5hYnbC0LuKa"
   },
   "source": [
    "#### Há dados faltantes no dataset?\n",
    "\n",
    "Dados faltantes (NaN) indicam que durante a coleta e elaboração da base de dados tais informações não estavam disponíveis. Trabalhar com dados faltantes acaba por limitar as nossas análises. Se há dados suficientes, podemos eliminar os dados faltantes. Se há poucos dados, pode-se buscar estratégias para substituir os dados faltantes.\n",
    "\n",
    "Atividades:\n",
    "\n",
    "A. Eliminar os dados faltantes.  \n",
    "B. Quantos exemplos permaneceram no dataset?"
   ]
  },
  {
   "cell_type": "code",
   "execution_count": null,
   "metadata": {
    "executionInfo": {
     "elapsed": 2,
     "status": "ok",
     "timestamp": 1742401260600,
     "user": {
      "displayName": "Caio Bertoldo Bezerra",
      "userId": "03228871005270311665"
     },
     "user_tz": 240
    },
    "id": "ddDHdApvLuKb"
   },
   "outputs": [],
   "source": []
  },
  {
   "cell_type": "markdown",
   "metadata": {
    "id": "NKyBoewzLuKb"
   },
   "source": [
    "#### Sexo do Abalone\n",
    "\n",
    "Conforme a documentação da base de dados, há três valores possíveis para o sexo do abalone, são elas:  \n",
    "    - M: Masculino  \n",
    "    - F: Feminino  \n",
    "    - I: Infantil (ainda não definido)  \n",
    "    \n",
    "Tal como dispostas, segundo strings, essas informações não ajudam modelos que lidam apenas com dados numéricos. É necessário efetuar uma codificação para representar tais valores. Assim, codifique a coluna sexo conforme a abordagem One-Hot Encoding e elimine a coluna original do dataset.\n",
    "\n",
    "Referências:\n",
    "- https://towardsdatascience.com/what-is-one-hot-encoding-and-how-to-use-pandas-get-dummies-function-922eb9bd4970\n",
    "- https://scikit-learn.org/stable/modules/generated/sklearn.preprocessing.OneHotEncoder.html"
   ]
  },
  {
   "cell_type": "code",
   "execution_count": null,
   "metadata": {
    "executionInfo": {
     "elapsed": 125,
     "status": "ok",
     "timestamp": 1742401260734,
     "user": {
      "displayName": "Caio Bertoldo Bezerra",
      "userId": "03228871005270311665"
     },
     "user_tz": 240
    },
    "id": "JD-w0pamLuKb"
   },
   "outputs": [],
   "source": []
  },
  {
   "cell_type": "markdown",
   "metadata": {
    "id": "AjcuHiNMLuKb"
   },
   "source": [
    "## Parte 2 - Tarefa de Aprendizado de Máquina\n",
    "\n",
    "Abordaremos o problema da previsão de idade como uma tarefa de classificação multiclasse. Embora uma tarefa de regressão pareça mais intuitiva nesse cenário, justificativas práticas motivam tal escolha, tal como a comparação com resultados já existentes na liiteratura."
   ]
  },
  {
   "cell_type": "markdown",
   "metadata": {
    "id": "asiwtSZuLuKb"
   },
   "source": [
    "#### Preparação dos dados para Validação Cruzada Holdout\n",
    "\n",
    "- Vamos separar o atributo alvo (Age) dos atributores preditores.\n",
    "  - Atributos preditores devem ser armazenados em uma variável denominada X  \n",
    "  - Atributo alvo deve ser armazenado em uma variável denominada y\n",
    "- Qual o tipo de entrada do modelo?\n",
    "- Vamos efetuar uma partição do tipo holdout 70/30\n",
    "\n",
    "Documentação completa disponível em: https://scikit-learn.org/stable/modules/generated/sklearn.model_selection.train_test_split.html"
   ]
  },
  {
   "cell_type": "code",
   "execution_count": null,
   "metadata": {
    "id": "tQUJskzYLuKb"
   },
   "outputs": [],
   "source": []
  },
  {
   "cell_type": "markdown",
   "metadata": {
    "id": "n3HYDenOLuKb"
   },
   "source": [
    "#### Treinar um modelo de regressão logística para o problema\n",
    "\n",
    "A Regressão Logística é uma técnica de Aprendizado de Máquina que tem como objetivo produzir, a partir de um conjunto de observações, um modelo que permita a predição de valores tomados por uma variável categórica, frequentemente binária, a partir de uma série de variáveis explicativas.\n",
    "\n",
    "1. Importe o modelo da biblioteca sklearn\n",
    "2. Instancie o modelo com parâmetros padrão (default)\n",
    "3. Execute o algoritmo de treinamento com os dados de treino\n",
    "\n",
    "Documentação completa disponível em: https://scikit-learn.org/stable/modules/generated/sklearn.linear_model.LogisticRegression.html"
   ]
  },
  {
   "cell_type": "code",
   "execution_count": null,
   "metadata": {
    "id": "r-0FRHwXLuKb"
   },
   "outputs": [],
   "source": []
  },
  {
   "cell_type": "markdown",
   "metadata": {
    "id": "Y4JIbgTjLuKc"
   },
   "source": [
    "#### Obtendo previsões do modelo\n",
    "\n",
    "1. Selecione um exemplo arbitrário da partição de teste\n",
    "2. Forneça os atributos preditores e obtenha a previsão da idade\n",
    "3. O modelo previu a idade corretamente?"
   ]
  },
  {
   "cell_type": "code",
   "execution_count": null,
   "metadata": {
    "id": "KkJed6OvLuKc"
   },
   "outputs": [],
   "source": []
  },
  {
   "cell_type": "markdown",
   "metadata": {
    "id": "6IA6ZkfpLuKc"
   },
   "source": [
    "#### Avalie o modelo perante o conjunto de testes\n",
    "\n",
    "1. Obtenha a acurácia, precisão, revocação e F_1 score\n",
    "  * Efetue a importação de tais métricas a partir do pacote sklearn.metrics\n",
    "  * Para fins de simplificação, considere os dados balanceados\n",
    "2. Elabore uma visualização da matriz de confusão para as previsões do conjunto de testes\n",
    "3. O modelo é bom para o problema? Justifique sua afirmação."
   ]
  },
  {
   "cell_type": "code",
   "execution_count": null,
   "metadata": {
    "id": "mUNZ2VE7LuKc"
   },
   "outputs": [],
   "source": []
  },
  {
   "cell_type": "markdown",
   "metadata": {
    "id": "QpPlOjBILuKc"
   },
   "source": [
    "#### Treinar um modelo de K-Vizinhos Mais Próximos\n",
    "\n",
    "É um algoritmo de Aprendizado de Máquina que baseia-se na média dos valores dos k vizinhos mais próximos a uma dada entrada para produzir uma estimativa para o atributo-alvo. É considerado \"preguiçoso\", mas muito mostra-se vantajoso por possuir um baixo custo computacional.\n",
    "\n",
    "1. Efetue o treinamento do K-Vizinhos mais Próximos, considerando k = 5\n",
    "2. Efetue o teste no modelo e obtenha as métricas de desempenho previamente indicadas.  \n",
    "3. Comparando com o modelo anterior, qual deles teve melhor desempenho perante o problema? Justifique."
   ]
  },
  {
   "cell_type": "code",
   "execution_count": null,
   "metadata": {
    "id": "vl04FrDlLuKc"
   },
   "outputs": [],
   "source": []
  },
  {
   "cell_type": "markdown",
   "metadata": {
    "id": "T3rdpTVTLuKc"
   },
   "source": [
    "#### Argumente\n",
    "\n",
    "Qual o grau de dificuldade da tarefa de aprendizado em questão? Justifique a partir dos elementos e resultados obtidos nas células anteriores."
   ]
  },
  {
   "cell_type": "code",
   "execution_count": null,
   "metadata": {
    "id": "sM6d5XYFLuKc"
   },
   "outputs": [],
   "source": []
  }
 ],
 "metadata": {
  "colab": {
   "provenance": []
  },
  "kernelspec": {
   "display_name": "base",
   "language": "python",
   "name": "python3"
  },
  "language_info": {
   "codemirror_mode": {
    "name": "ipython",
    "version": 3
   },
   "file_extension": ".py",
   "mimetype": "text/x-python",
   "name": "python",
   "nbconvert_exporter": "python",
   "pygments_lexer": "ipython3",
   "version": "3.12.7"
  }
 },
 "nbformat": 4,
 "nbformat_minor": 0
}
