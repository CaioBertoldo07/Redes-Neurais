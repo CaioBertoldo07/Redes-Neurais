{
 "cells": [
  {
   "cell_type": "markdown",
   "metadata": {},
   "source": [
    "## Atividade Avaliativa 1.2 -- Classificando a Idade do Abalone\n",
    "\n",
    "O Abalone é um gênero (_Haliotis_) de um moluscos gastrópodes marinhos da família _Haliotidae_. Foi identificado por Linnaeus em 1758 e suas diversas espécies podem ser encontradas em águas costeiras de quase todo o mundo. É usado na indústria alimentícia e em itens decorativos, tais como jóias ou instrumentos musicais [1](https://pt.wikipedia.org/wiki/Abalone). A idade do abalone pode ser obtida diretamente a partir de medidas físicas, porém é necessário cortar a concha, efetuar um processo de pigmentação, e então contar o número de anéis por meio de um microscópio -- tarefa considerada monótona e custosa [2](https://archive.ics.uci.edu/ml/datasets/Abalone).\n",
    "\n",
    "Outras medidas do Abalone, entretanto, são mais fáceis de obter, não danificam a concha e podem ser utilizadas para estimar a idade com um modelo inteligente por meio de um processo de Aprendizado Supervisionado. Esse é o objetivo do presente projeto prático.\n",
    "\n",
    "Base de dados original: https://archive.ics.uci.edu/ml/datasets/Abalone  \n",
    "Base de dados preparada: abalone.csv (Disponível no Google Classroom)"
   ]
  },
  {
   "cell_type": "markdown",
   "metadata": {},
   "source": [
    "### Bibliotecas\n",
    "\n",
    "Por hábito, a primeira célula do notebook costuma ser reservada para importação de bibliotecas.\n",
    "A cada biblioteca nova acrescida, é necessário executar a célula para atualização e correta execução."
   ]
  },
  {
   "cell_type": "code",
<<<<<<< Updated upstream
   "execution_count": 31,
=======
   "execution_count": 45,
>>>>>>> Stashed changes
   "metadata": {},
   "outputs": [],
   "source": [
    "import pandas as pd\n",
    "import numpy as np\n",
    "import matplotlib.pyplot as plt\n",
<<<<<<< Updated upstream
    "from sklearn.model_selection import train_test_split\n",
    "from sklearn.linear_model import LogisticRegression\n",
    "from sklearn.preprocessing import OneHotEncoder\n",
    "from sklearn.metrics import confusion_matrix, accuracy_score, ConfusionMatrixDisplay\n",
    "import seaborn as sns"
=======
    "from sklearn.preprocessing import OneHotEncoder\n",
    "from sklearn.model_selection import train_test_split\n",
    "from sklearn.linear_model import LogisticRegression\n",
    "from sklearn.metrics import accuracy_score, precision_score, recall_score, f1_score, confusion_matrix, ConfusionMatrixDisplay\n",
    "\n"
>>>>>>> Stashed changes
   ]
  },
  {
   "cell_type": "markdown",
   "metadata": {},
   "source": [
    "## Parte 1 - Análise e Exploração de Dados"
   ]
  },
  {
   "cell_type": "markdown",
   "metadata": {},
   "source": [
    "### Abertura do Dataset\n",
    "Abra o dataset e visualize o seu cabeçalho, isto é, os primeiros exemplos nele contidos. Isto é útil para checar se a importação foi realizada de maneira adequada e se a disposição dos dados está de acordo para os próximos passos do trabalho."
   ]
  },
  {
   "cell_type": "code",
<<<<<<< Updated upstream
   "execution_count": 3,
=======
   "execution_count": 46,
>>>>>>> Stashed changes
   "metadata": {},
   "outputs": [
    {
     "data": {
      "text/html": [
       "<div>\n",
       "<style scoped>\n",
       "    .dataframe tbody tr th:only-of-type {\n",
       "        vertical-align: middle;\n",
       "    }\n",
       "\n",
       "    .dataframe tbody tr th {\n",
       "        vertical-align: top;\n",
       "    }\n",
       "\n",
       "    .dataframe thead th {\n",
       "        text-align: right;\n",
       "    }\n",
       "</style>\n",
       "<table border=\"1\" class=\"dataframe\">\n",
       "  <thead>\n",
       "    <tr style=\"text-align: right;\">\n",
       "      <th></th>\n",
       "      <th>Sex</th>\n",
       "      <th>Length</th>\n",
       "      <th>Diameter</th>\n",
       "      <th>Height</th>\n",
       "      <th>Whole weight</th>\n",
       "      <th>Shucked weight</th>\n",
       "      <th>Viscera weight</th>\n",
       "      <th>Shell weight</th>\n",
       "      <th>Age</th>\n",
       "    </tr>\n",
       "  </thead>\n",
       "  <tbody>\n",
       "    <tr>\n",
       "      <th>0</th>\n",
       "      <td>M</td>\n",
       "      <td>0.350</td>\n",
       "      <td>0.265</td>\n",
       "      <td>0.090</td>\n",
       "      <td>0.2255</td>\n",
       "      <td>0.0995</td>\n",
       "      <td>0.0485</td>\n",
       "      <td>0.070</td>\n",
       "      <td>7</td>\n",
       "    </tr>\n",
       "    <tr>\n",
       "      <th>1</th>\n",
       "      <td>F</td>\n",
       "      <td>0.530</td>\n",
       "      <td>0.420</td>\n",
       "      <td>0.135</td>\n",
       "      <td>0.6770</td>\n",
       "      <td>0.2565</td>\n",
       "      <td>0.1415</td>\n",
       "      <td>0.210</td>\n",
       "      <td>9</td>\n",
       "    </tr>\n",
       "    <tr>\n",
       "      <th>2</th>\n",
       "      <td>M</td>\n",
       "      <td>0.440</td>\n",
       "      <td>0.365</td>\n",
       "      <td>0.125</td>\n",
       "      <td>0.5160</td>\n",
       "      <td>0.2155</td>\n",
       "      <td>0.1140</td>\n",
       "      <td>0.155</td>\n",
       "      <td>10</td>\n",
       "    </tr>\n",
       "    <tr>\n",
       "      <th>3</th>\n",
       "      <td>I</td>\n",
       "      <td>0.330</td>\n",
       "      <td>0.255</td>\n",
       "      <td>0.080</td>\n",
       "      <td>0.2050</td>\n",
       "      <td>0.0895</td>\n",
       "      <td>0.0395</td>\n",
       "      <td>0.055</td>\n",
       "      <td>7</td>\n",
       "    </tr>\n",
       "    <tr>\n",
       "      <th>4</th>\n",
       "      <td>I</td>\n",
       "      <td>0.425</td>\n",
       "      <td>0.300</td>\n",
       "      <td>0.095</td>\n",
       "      <td>0.3515</td>\n",
       "      <td>0.1410</td>\n",
       "      <td>0.0775</td>\n",
       "      <td>0.120</td>\n",
       "      <td>8</td>\n",
       "    </tr>\n",
       "  </tbody>\n",
       "</table>\n",
       "</div>"
      ],
      "text/plain": [
       "  Sex  Length  Diameter  Height  Whole weight  Shucked weight  Viscera weight  \\\n",
       "0   M   0.350     0.265   0.090        0.2255          0.0995          0.0485   \n",
       "1   F   0.530     0.420   0.135        0.6770          0.2565          0.1415   \n",
       "2   M   0.440     0.365   0.125        0.5160          0.2155          0.1140   \n",
       "3   I   0.330     0.255   0.080        0.2050          0.0895          0.0395   \n",
       "4   I   0.425     0.300   0.095        0.3515          0.1410          0.0775   \n",
       "\n",
       "   Shell weight  Age  \n",
       "0         0.070    7  \n",
       "1         0.210    9  \n",
       "2         0.155   10  \n",
       "3         0.055    7  \n",
       "4         0.120    8  "
      ]
     },
<<<<<<< Updated upstream
     "execution_count": 3,
=======
     "execution_count": 46,
>>>>>>> Stashed changes
     "metadata": {},
     "output_type": "execute_result"
    }
   ],
   "source": [
    "df = pd.read_csv('abalone.csv')\n",
    "df.head()"
   ]
  },
  {
   "cell_type": "markdown",
   "metadata": {},
   "source": [
    "### Conhecendo o dataset\n",
    "\n",
    "Para praticar conceitos relativos à exploração do conjunto de dados, utilize as células a seguir para prover respostas para cada uma das respostas elencadas"
   ]
  },
  {
   "cell_type": "code",
   "execution_count": null,
   "metadata": {},
   "outputs": [],
   "source": []
  },
  {
   "cell_type": "markdown",
   "metadata": {},
   "source": [
    "#### Quantos exemplos há no dataset?"
   ]
  },
  {
   "cell_type": "code",
<<<<<<< Updated upstream
   "execution_count": 4,
=======
   "execution_count": 47,
>>>>>>> Stashed changes
   "metadata": {},
   "outputs": [
    {
     "name": "stdout",
     "output_type": "stream",
     "text": [
      "Há 4176 exemplos no dataset\n"
     ]
    }
   ],
   "source": [
    "print(f\"Há {df.shape[0]} exemplos no dataset\")"
   ]
  },
  {
   "cell_type": "markdown",
   "metadata": {},
   "source": [
    "#### Quais os atributos existentes no dataset e seu tipo?"
   ]
  },
  {
   "cell_type": "code",
<<<<<<< Updated upstream
   "execution_count": 5,
=======
   "execution_count": 48,
>>>>>>> Stashed changes
   "metadata": {},
   "outputs": [
    {
     "name": "stdout",
     "output_type": "stream",
     "text": [
      "<class 'pandas.core.frame.DataFrame'>\n",
      "RangeIndex: 4176 entries, 0 to 4175\n",
      "Data columns (total 9 columns):\n",
      " #   Column          Dtype  \n",
      "---  ------          -----  \n",
      " 0   Sex             object \n",
      " 1   Length          float64\n",
      " 2   Diameter        float64\n",
      " 3   Height          float64\n",
      " 4   Whole weight    float64\n",
      " 5   Shucked weight  float64\n",
      " 6   Viscera weight  float64\n",
      " 7   Shell weight    float64\n",
      " 8   Age             int64  \n",
      "dtypes: float64(7), int64(1), object(1)"
     ]
    }
   ],
   "source": [
    "df.info(memory_usage=False, show_counts=False)"
   ]
  },
  {
   "cell_type": "markdown",
   "metadata": {},
   "source": [
    "#### Quantos a idade do abalone mais velho presente na base de dados? Quais seus atributos?"
   ]
  },
  {
   "cell_type": "code",
<<<<<<< Updated upstream
   "execution_count": 6,
=======
   "execution_count": 49,
>>>>>>> Stashed changes
   "metadata": {},
   "outputs": [
    {
     "data": {
      "text/plain": [
       "Sex                    F\n",
       "Length               0.7\n",
       "Diameter           0.585\n",
       "Height             0.185\n",
       "Whole weight      1.8075\n",
       "Shucked weight    0.7055\n",
       "Viscera weight    0.3215\n",
       "Shell weight       0.475\n",
       "Age                   29\n",
       "Name: 479, dtype: object"
      ]
     },
<<<<<<< Updated upstream
     "execution_count": 6,
=======
     "execution_count": 49,
>>>>>>> Stashed changes
     "metadata": {},
     "output_type": "execute_result"
    }
   ],
   "source": [
    "df.loc[df['Age'].idxmax()]"
   ]
  },
  {
   "cell_type": "markdown",
   "metadata": {},
   "source": [
    "#### Histograma das idades\n",
    "\n",
    "O histograma é um gráfico que mostra as frequências de uma determinada informação. No nosso caso, vamos construir um histograma que mostra as idades dos abalones. Vamos agrupar as idades em dez bins (caixas).\n",
    "\n",
    "Ao ler o gráfico, veremos dez barras (bins). Elas sintetizam quantos abalones daquela faixa de idade existem no dataset. Os bins são partições do total de valores em 10 partes de mesmo tamanho.\n",
    "\n",
    "Documentação completa disponível em: https://matplotlib.org/stable/api/_as_gen/matplotlib.pyplot.hist.html\n"
   ]
  },
  {
   "cell_type": "code",
   "execution_count": 50,
   "metadata": {},
   "outputs": [
    {
     "data": {
      "text/plain": [
       "<Axes: >"
      ]
     },
     "execution_count": 50,
     "metadata": {},
     "output_type": "execute_result"
    },
    {
     "data": {
      "image/png": "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",
      "text/plain": [
       "<Figure size 640x480 with 1 Axes>"
      ]
     },
     "metadata": {},
     "output_type": "display_data"
    }
   ],
   "source": [
    "df.Age.hist(bins=10, grid=False)"
   ]
  },
  {
   "cell_type": "markdown",
   "metadata": {},
   "source": [
    "#### Boxplot das idades \n",
    "\n",
    "Como é a distribuição dos valores das idades dos abalones? O gráfico boxplot pode nos ajudar nesta questão.\n",
    "\n",
    "O boxplot ilustra informações importantes:\n",
    "- Mediana\n",
    "- Limite inferior (menor valor)\n",
    "- Limite superior (maior valor)\n",
    "- Q1 (primeiro quartil, 25% dos dados)\n",
    "- Q3 (terceiro quartil, 75% dos dados)\n",
    "- Outliers (se houver)\n",
    "\n",
    "A distribuição dos exemplos no dataset é simétrica no tocante à idade? Elabore um parágrafo que justifique as conclusões obtidas a partir da análise do boxplot.\n",
    "\n",
    "Documentação completa disponível em: https://matplotlib.org/stable/api/_as_gen/matplotlib.pyplot.boxplot.html"
   ]
  },
  {
   "cell_type": "code",
   "execution_count": 51,
   "metadata": {},
   "outputs": [
    {
     "data": {
      "text/plain": [
       "<Axes: >"
      ]
     },
     "execution_count": 51,
     "metadata": {},
     "output_type": "execute_result"
    },
    {
     "data": {
      "image/png": "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",
      "text/plain": [
       "<Figure size 640x480 with 1 Axes>"
      ]
     },
     "metadata": {},
     "output_type": "display_data"
    }
   ],
   "source": [
    "df.boxplot(column='Age', grid=False)"
   ]
  },
  {
   "cell_type": "markdown",
   "metadata": {},
   "source": [
    "#### Há dados faltantes no dataset? \n",
    "\n",
    "Dados faltantes (NaN) indicam que durante a coleta e elaboração da base de dados tais informações não estavam disponíveis. Trabalhar com dados faltantes acaba por limitar as nossas análises. Se há dados suficientes, podemos eliminar os dados faltantes. Se há poucos dados, pode-se buscar estratégias para substituir os dados faltantes.\n",
    "\n",
    "Atividades:\n",
    "\n",
    "A. Eliminar os dados faltantes.  \n",
    "B. Quantos exemplos permaneceram no dataset?"
   ]
  },
  {
   "cell_type": "code",
   "execution_count": 52,
   "metadata": {},
   "outputs": [
    {
     "data": {
      "text/plain": [
       "Sex               0\n",
       "Length            0\n",
       "Diameter          0\n",
       "Height            0\n",
       "Whole weight      0\n",
       "Shucked weight    0\n",
       "Viscera weight    0\n",
       "Shell weight      0\n",
       "Age               0\n",
       "dtype: int64"
      ]
     },
     "execution_count": 52,
     "metadata": {},
     "output_type": "execute_result"
    }
   ],
   "source": [
    "df.isna().sum()"
   ]
  },
  {
   "cell_type": "code",
   "execution_count": 53,
   "metadata": {},
   "outputs": [
    {
     "data": {
      "text/plain": [
       "Sex               0\n",
       "Length            0\n",
       "Diameter          0\n",
       "Height            0\n",
       "Whole weight      0\n",
       "Shucked weight    0\n",
       "Viscera weight    0\n",
       "Shell weight      0\n",
       "Age               0\n",
       "dtype: int64"
      ]
     },
     "execution_count": 53,
     "metadata": {},
     "output_type": "execute_result"
    }
   ],
   "source": [
    "df.isnull().sum()"
   ]
  },
  {
   "cell_type": "markdown",
   "metadata": {},
   "source": [
    "#### Sexo do Abalone\n",
    "\n",
    "Conforme a documentação da base de dados, há três valores possíveis para o sexo do abalone, são elas:  \n",
    "    - M: Masculino  \n",
    "    - F: Feminino  \n",
    "    - I: Infantil (ainda não definido)  \n",
    "    \n",
    "Tal como dispostas, segundo strings, essas informações não ajudam modelos que lidam apenas com dados numéricos. É necessário efetuar uma codificação para representar tais valores. Assim, codifique a coluna sexo conforme a abordagem One-Hot Encoding e elimine a coluna original do dataset.\n",
    "\n",
    "Referências:\n",
    "- https://towardsdatascience.com/what-is-one-hot-encoding-and-how-to-use-pandas-get-dummies-function-922eb9bd4970\n",
    "- https://scikit-learn.org/stable/modules/generated/sklearn.preprocessing.OneHotEncoder.html"
   ]
  },
  {
   "cell_type": "code",
<<<<<<< Updated upstream
   "execution_count": 7,
=======
   "execution_count": 54,
>>>>>>> Stashed changes
   "metadata": {},
   "outputs": [
    {
     "data": {
      "text/html": [
       "<div>\n",
       "<style scoped>\n",
       "    .dataframe tbody tr th:only-of-type {\n",
       "        vertical-align: middle;\n",
       "    }\n",
       "\n",
       "    .dataframe tbody tr th {\n",
       "        vertical-align: top;\n",
       "    }\n",
       "\n",
       "    .dataframe thead th {\n",
       "        text-align: right;\n",
       "    }\n",
       "</style>\n",
       "<table border=\"1\" class=\"dataframe\">\n",
       "  <thead>\n",
       "    <tr style=\"text-align: right;\">\n",
       "      <th></th>\n",
       "      <th>Sex_F</th>\n",
       "      <th>Sex_I</th>\n",
       "      <th>Sex_M</th>\n",
       "    </tr>\n",
       "  </thead>\n",
       "  <tbody>\n",
       "    <tr>\n",
       "      <th>0</th>\n",
       "      <td>0.0</td>\n",
       "      <td>0.0</td>\n",
       "      <td>1.0</td>\n",
       "    </tr>\n",
       "    <tr>\n",
       "      <th>1</th>\n",
       "      <td>1.0</td>\n",
       "      <td>0.0</td>\n",
       "      <td>0.0</td>\n",
       "    </tr>\n",
       "    <tr>\n",
       "      <th>2</th>\n",
       "      <td>0.0</td>\n",
       "      <td>0.0</td>\n",
       "      <td>1.0</td>\n",
       "    </tr>\n",
       "    <tr>\n",
       "      <th>3</th>\n",
       "      <td>0.0</td>\n",
       "      <td>1.0</td>\n",
       "      <td>0.0</td>\n",
       "    </tr>\n",
       "    <tr>\n",
       "      <th>4</th>\n",
       "      <td>0.0</td>\n",
       "      <td>1.0</td>\n",
       "      <td>0.0</td>\n",
       "    </tr>\n",
       "  </tbody>\n",
       "</table>\n",
       "</div>"
      ],
      "text/plain": [
       "   Sex_F  Sex_I  Sex_M\n",
       "0    0.0    0.0    1.0\n",
       "1    1.0    0.0    0.0\n",
       "2    0.0    0.0    1.0\n",
       "3    0.0    1.0    0.0\n",
       "4    0.0    1.0    0.0"
      ]
     },
<<<<<<< Updated upstream
     "execution_count": 7,
=======
     "execution_count": 54,
>>>>>>> Stashed changes
     "metadata": {},
     "output_type": "execute_result"
    }
   ],
   "source": [
    "# Criando e aplicando o OneHotEncoder\n",
    "encoder = OneHotEncoder(sparse_output=False)\n",
    "encoded_array = encoder.fit_transform(df[['Sex']])\n",
    "\n",
    "# Convertendo para DataFrame com os nomes das categorias\n",
    "df_encoded = pd.DataFrame(encoded_array, columns=encoder.get_feature_names_out(['Sex']))\n",
    "df_encoded.head()"
   ]
  },
  {
   "cell_type": "code",
<<<<<<< Updated upstream
   "execution_count": 8,
=======
   "execution_count": 55,
>>>>>>> Stashed changes
   "metadata": {},
   "outputs": [
    {
     "data": {
      "text/html": [
       "<div>\n",
       "<style scoped>\n",
       "    .dataframe tbody tr th:only-of-type {\n",
       "        vertical-align: middle;\n",
       "    }\n",
       "\n",
       "    .dataframe tbody tr th {\n",
       "        vertical-align: top;\n",
       "    }\n",
       "\n",
       "    .dataframe thead th {\n",
       "        text-align: right;\n",
       "    }\n",
       "</style>\n",
       "<table border=\"1\" class=\"dataframe\">\n",
       "  <thead>\n",
       "    <tr style=\"text-align: right;\">\n",
       "      <th></th>\n",
       "      <th>Length</th>\n",
       "      <th>Diameter</th>\n",
       "      <th>Height</th>\n",
       "      <th>Whole weight</th>\n",
       "      <th>Shucked weight</th>\n",
       "      <th>Viscera weight</th>\n",
       "      <th>Shell weight</th>\n",
       "      <th>Age</th>\n",
       "      <th>Sex_F</th>\n",
       "      <th>Sex_I</th>\n",
       "      <th>Sex_M</th>\n",
       "    </tr>\n",
       "  </thead>\n",
       "  <tbody>\n",
       "    <tr>\n",
       "      <th>0</th>\n",
       "      <td>0.350</td>\n",
       "      <td>0.265</td>\n",
       "      <td>0.090</td>\n",
       "      <td>0.2255</td>\n",
       "      <td>0.0995</td>\n",
       "      <td>0.0485</td>\n",
       "      <td>0.070</td>\n",
       "      <td>7</td>\n",
       "      <td>0.0</td>\n",
       "      <td>0.0</td>\n",
       "      <td>1.0</td>\n",
       "    </tr>\n",
       "    <tr>\n",
       "      <th>1</th>\n",
       "      <td>0.530</td>\n",
       "      <td>0.420</td>\n",
       "      <td>0.135</td>\n",
       "      <td>0.6770</td>\n",
       "      <td>0.2565</td>\n",
       "      <td>0.1415</td>\n",
       "      <td>0.210</td>\n",
       "      <td>9</td>\n",
       "      <td>1.0</td>\n",
       "      <td>0.0</td>\n",
       "      <td>0.0</td>\n",
       "    </tr>\n",
       "    <tr>\n",
       "      <th>2</th>\n",
       "      <td>0.440</td>\n",
       "      <td>0.365</td>\n",
       "      <td>0.125</td>\n",
       "      <td>0.5160</td>\n",
       "      <td>0.2155</td>\n",
       "      <td>0.1140</td>\n",
       "      <td>0.155</td>\n",
       "      <td>10</td>\n",
       "      <td>0.0</td>\n",
       "      <td>0.0</td>\n",
       "      <td>1.0</td>\n",
       "    </tr>\n",
       "    <tr>\n",
       "      <th>3</th>\n",
       "      <td>0.330</td>\n",
       "      <td>0.255</td>\n",
       "      <td>0.080</td>\n",
       "      <td>0.2050</td>\n",
       "      <td>0.0895</td>\n",
       "      <td>0.0395</td>\n",
       "      <td>0.055</td>\n",
       "      <td>7</td>\n",
       "      <td>0.0</td>\n",
       "      <td>1.0</td>\n",
       "      <td>0.0</td>\n",
       "    </tr>\n",
       "    <tr>\n",
       "      <th>4</th>\n",
       "      <td>0.425</td>\n",
       "      <td>0.300</td>\n",
       "      <td>0.095</td>\n",
       "      <td>0.3515</td>\n",
       "      <td>0.1410</td>\n",
       "      <td>0.0775</td>\n",
       "      <td>0.120</td>\n",
       "      <td>8</td>\n",
       "      <td>0.0</td>\n",
       "      <td>1.0</td>\n",
       "      <td>0.0</td>\n",
       "    </tr>\n",
       "  </tbody>\n",
       "</table>\n",
       "</div>"
      ],
      "text/plain": [
       "   Length  Diameter  Height  Whole weight  Shucked weight  Viscera weight  \\\n",
       "0   0.350     0.265   0.090        0.2255          0.0995          0.0485   \n",
       "1   0.530     0.420   0.135        0.6770          0.2565          0.1415   \n",
       "2   0.440     0.365   0.125        0.5160          0.2155          0.1140   \n",
       "3   0.330     0.255   0.080        0.2050          0.0895          0.0395   \n",
       "4   0.425     0.300   0.095        0.3515          0.1410          0.0775   \n",
       "\n",
       "   Shell weight  Age  Sex_F  Sex_I  Sex_M  \n",
       "0         0.070    7    0.0    0.0    1.0  \n",
       "1         0.210    9    1.0    0.0    0.0  \n",
       "2         0.155   10    0.0    0.0    1.0  \n",
       "3         0.055    7    0.0    1.0    0.0  \n",
       "4         0.120    8    0.0    1.0    0.0  "
      ]
     },
<<<<<<< Updated upstream
     "execution_count": 8,
=======
     "execution_count": 55,
>>>>>>> Stashed changes
     "metadata": {},
     "output_type": "execute_result"
    }
   ],
   "source": [
    "# Gerando um novo DataFrame substituindo os dados categóricos por dados numéricos\n",
    "df_final = df.drop(columns=['Sex']).join(df_encoded)\n",
    "df_final.head()"
   ]
  },
  {
   "cell_type": "markdown",
   "metadata": {},
   "source": [
    "## Parte 2 - Tarefa de Aprendizado de Máquina\n",
    "\n",
    "Abordaremos o problema da previsão de idade como uma tarefa de classificação multiclasse. Embora uma tarefa de regressão pareça mais intuitiva nesse cenário, justificativas práticas motivam tal escolha, tal como a comparação com resultados já existentes na liiteratura."
   ]
  },
  {
   "cell_type": "markdown",
   "metadata": {},
   "source": [
    "#### Preparação dos dados para Validação Cruzada Holdout\n",
    "\n",
    "- Vamos separar o atributo alvo (Age) dos atributores preditores. \n",
    "  - Atributos preditores devem ser armazenados em uma variável denominada X  \n",
    "  - Atributo alvo deve ser armazenado em uma variável denominada y\n",
    "- Qual o tipo de entrada do modelo?\n",
    "- Vamos efetuar uma partição do tipo holdout 70/30\n",
    "\n",
    "Documentação completa disponível em: https://scikit-learn.org/stable/modules/generated/sklearn.model_selection.train_test_split.html"
   ]
  },
  {
   "cell_type": "code",
   "execution_count": 56,
   "metadata": {},
   "outputs": [
    {
     "name": "stdout",
     "output_type": "stream",
     "text": [
<<<<<<< Updated upstream
      "Formato de X: (4176, 10)\n",
      "Formato de y: (4176,)\n",
      " testeX:(1253, 10) treiniX:(2923, 10) testey:(1253,) treinoy:(2923,) \n"
=======
      "      Length  Diameter  Height  Whole weight  Shucked weight  Viscera weight  \\\n",
      "0      0.350     0.265   0.090        0.2255          0.0995          0.0485   \n",
      "1      0.530     0.420   0.135        0.6770          0.2565          0.1415   \n",
      "2      0.440     0.365   0.125        0.5160          0.2155          0.1140   \n",
      "3      0.330     0.255   0.080        0.2050          0.0895          0.0395   \n",
      "4      0.425     0.300   0.095        0.3515          0.1410          0.0775   \n",
      "...      ...       ...     ...           ...             ...             ...   \n",
      "4171   0.565     0.450   0.165        0.8870          0.3700          0.2390   \n",
      "4172   0.590     0.440   0.135        0.9660          0.4390          0.2145   \n",
      "4173   0.600     0.475   0.205        1.1760          0.5255          0.2875   \n",
      "4174   0.625     0.485   0.150        1.0945          0.5310          0.2610   \n",
      "4175   0.710     0.555   0.195        1.9485          0.9455          0.3765   \n",
      "\n",
      "      Shell weight  Sex_F  Sex_I  Sex_M  \n",
      "0           0.0700    0.0    0.0    1.0  \n",
      "1           0.2100    1.0    0.0    0.0  \n",
      "2           0.1550    0.0    0.0    1.0  \n",
      "3           0.0550    0.0    1.0    0.0  \n",
      "4           0.1200    0.0    1.0    0.0  \n",
      "...            ...    ...    ...    ...  \n",
      "4171        0.2490    1.0    0.0    0.0  \n",
      "4172        0.2605    0.0    0.0    1.0  \n",
      "4173        0.3080    0.0    0.0    1.0  \n",
      "4174        0.2960    1.0    0.0    0.0  \n",
      "4175        0.4950    0.0    0.0    1.0  \n",
      "\n",
      "[4176 rows x 10 columns]\n",
      "0        7\n",
      "1        9\n",
      "2       10\n",
      "3        7\n",
      "4        8\n",
      "        ..\n",
      "4171    11\n",
      "4172    10\n",
      "4173     9\n",
      "4174    10\n",
      "4175    12\n",
      "Name: Age, Length: 4176, dtype: int64\n"
>>>>>>> Stashed changes
     ]
    }
   ],
   "source": [
<<<<<<< Updated upstream
    "y = df_final[\"Age\"]\n",
    "X = df_final.drop(columns=[\"Age\"])\n",
    "\n",
    "print(f\"Formato de X: {X.shape}\")\n",
    "print(f\"Formato de y: {y.shape}\")\n",
    "\n",
    "X_train, X_test, y_train, y_test = train_test_split(X, y, test_size = 0.3, random_state=42)\n",
    "\n",
    "print(f\" testeX:{X_test.shape} treinoX:{X_train.shape} testey:{y_test.shape} treinoy:{y_train.shape} \")"
=======
    "X = df_final.drop(columns=[\"Age\"])\n",
    "y = df_final[\"Age\"]\n",
    "\n",
    "print(X)\n",
    "print(y)\n",
    "\n",
    "X_train, X_test, y_train, y_test = train_test_split(X, y, test_size=0.30, random_state=42)"
>>>>>>> Stashed changes
   ]
  },
  {
   "cell_type": "markdown",
   "metadata": {},
   "source": [
    "#### Treinar um modelo de regressão logística para o problema\n",
    "\n",
    "A Regressão Logística é uma técnica de Aprendizado de Máquina que tem como objetivo produzir, a partir de um conjunto de observações, um modelo que permita a predição de valores tomados por uma variável categórica, frequentemente binária, a partir de uma série de variáveis explicativas.\n",
    "\n",
    "1. Importe o modelo da biblioteca sklearn\n",
    "2. Instancie o modelo com parâmetros padrão (default)\n",
    "3. Execute o algoritmo de treinamento com os dados de treino\n",
    "\n",
    "Documentação completa disponível em: https://scikit-learn.org/stable/modules/generated/sklearn.linear_model.LogisticRegression.html"
   ]
  },
  {
   "cell_type": "code",
<<<<<<< Updated upstream
   "execution_count": 15,
=======
   "execution_count": 57,
>>>>>>> Stashed changes
   "metadata": {},
   "outputs": [
    {
     "name": "stderr",
     "output_type": "stream",
     "text": [
<<<<<<< Updated upstream
      "c:\\Users\\arkade\\anaconda3\\Lib\\site-packages\\sklearn\\linear_model\\_logistic.py:469: ConvergenceWarning: lbfgs failed to converge (status=1):\n",
=======
      "C:\\Users\\STEM - BEX\\AppData\\Roaming\\Python\\Python312\\site-packages\\sklearn\\linear_model\\_logistic.py:465: ConvergenceWarning: lbfgs failed to converge (status=1):\n",
>>>>>>> Stashed changes
      "STOP: TOTAL NO. of ITERATIONS REACHED LIMIT.\n",
      "\n",
      "Increase the number of iterations (max_iter) or scale the data as shown in:\n",
      "    https://scikit-learn.org/stable/modules/preprocessing.html\n",
      "Please also refer to the documentation for alternative solver options:\n",
      "    https://scikit-learn.org/stable/modules/linear_model.html#logistic-regression\n",
      "  n_iter_i = _check_optimize_result(\n"
     ]
    },
    {
     "data": {
      "text/html": [
       "<style>#sk-container-id-2 {\n",
       "  /* Definition of color scheme common for light and dark mode */\n",
<<<<<<< Updated upstream
       "  --sklearn-color-text: black;\n",
=======
       "  --sklearn-color-text: #000;\n",
       "  --sklearn-color-text-muted: #666;\n",
>>>>>>> Stashed changes
       "  --sklearn-color-line: gray;\n",
       "  /* Definition of color scheme for unfitted estimators */\n",
       "  --sklearn-color-unfitted-level-0: #fff5e6;\n",
       "  --sklearn-color-unfitted-level-1: #f6e4d2;\n",
       "  --sklearn-color-unfitted-level-2: #ffe0b3;\n",
       "  --sklearn-color-unfitted-level-3: chocolate;\n",
       "  /* Definition of color scheme for fitted estimators */\n",
       "  --sklearn-color-fitted-level-0: #f0f8ff;\n",
       "  --sklearn-color-fitted-level-1: #d4ebff;\n",
       "  --sklearn-color-fitted-level-2: #b3dbfd;\n",
       "  --sklearn-color-fitted-level-3: cornflowerblue;\n",
       "\n",
       "  /* Specific color for light theme */\n",
       "  --sklearn-color-text-on-default-background: var(--sg-text-color, var(--theme-code-foreground, var(--jp-content-font-color1, black)));\n",
       "  --sklearn-color-background: var(--sg-background-color, var(--theme-background, var(--jp-layout-color0, white)));\n",
       "  --sklearn-color-border-box: var(--sg-text-color, var(--theme-code-foreground, var(--jp-content-font-color1, black)));\n",
       "  --sklearn-color-icon: #696969;\n",
       "\n",
       "  @media (prefers-color-scheme: dark) {\n",
       "    /* Redefinition of color scheme for dark theme */\n",
       "    --sklearn-color-text-on-default-background: var(--sg-text-color, var(--theme-code-foreground, var(--jp-content-font-color1, white)));\n",
       "    --sklearn-color-background: var(--sg-background-color, var(--theme-background, var(--jp-layout-color0, #111)));\n",
       "    --sklearn-color-border-box: var(--sg-text-color, var(--theme-code-foreground, var(--jp-content-font-color1, white)));\n",
       "    --sklearn-color-icon: #878787;\n",
       "  }\n",
       "}\n",
       "\n",
       "#sk-container-id-2 {\n",
       "  color: var(--sklearn-color-text);\n",
       "}\n",
       "\n",
       "#sk-container-id-2 pre {\n",
       "  padding: 0;\n",
       "}\n",
       "\n",
       "#sk-container-id-2 input.sk-hidden--visually {\n",
       "  border: 0;\n",
       "  clip: rect(1px 1px 1px 1px);\n",
       "  clip: rect(1px, 1px, 1px, 1px);\n",
       "  height: 1px;\n",
       "  margin: -1px;\n",
       "  overflow: hidden;\n",
       "  padding: 0;\n",
       "  position: absolute;\n",
       "  width: 1px;\n",
       "}\n",
       "\n",
       "#sk-container-id-2 div.sk-dashed-wrapped {\n",
       "  border: 1px dashed var(--sklearn-color-line);\n",
       "  margin: 0 0.4em 0.5em 0.4em;\n",
       "  box-sizing: border-box;\n",
       "  padding-bottom: 0.4em;\n",
       "  background-color: var(--sklearn-color-background);\n",
       "}\n",
       "\n",
       "#sk-container-id-2 div.sk-container {\n",
       "  /* jupyter's `normalize.less` sets `[hidden] { display: none; }`\n",
       "     but bootstrap.min.css set `[hidden] { display: none !important; }`\n",
       "     so we also need the `!important` here to be able to override the\n",
       "     default hidden behavior on the sphinx rendered scikit-learn.org.\n",
       "     See: https://github.com/scikit-learn/scikit-learn/issues/21755 */\n",
       "  display: inline-block !important;\n",
       "  position: relative;\n",
       "}\n",
       "\n",
       "#sk-container-id-2 div.sk-text-repr-fallback {\n",
       "  display: none;\n",
       "}\n",
       "\n",
       "div.sk-parallel-item,\n",
       "div.sk-serial,\n",
       "div.sk-item {\n",
       "  /* draw centered vertical line to link estimators */\n",
       "  background-image: linear-gradient(var(--sklearn-color-text-on-default-background), var(--sklearn-color-text-on-default-background));\n",
       "  background-size: 2px 100%;\n",
       "  background-repeat: no-repeat;\n",
       "  background-position: center center;\n",
       "}\n",
       "\n",
       "/* Parallel-specific style estimator block */\n",
       "\n",
       "#sk-container-id-2 div.sk-parallel-item::after {\n",
       "  content: \"\";\n",
       "  width: 100%;\n",
       "  border-bottom: 2px solid var(--sklearn-color-text-on-default-background);\n",
       "  flex-grow: 1;\n",
       "}\n",
       "\n",
       "#sk-container-id-2 div.sk-parallel {\n",
       "  display: flex;\n",
       "  align-items: stretch;\n",
       "  justify-content: center;\n",
       "  background-color: var(--sklearn-color-background);\n",
       "  position: relative;\n",
       "}\n",
       "\n",
       "#sk-container-id-2 div.sk-parallel-item {\n",
       "  display: flex;\n",
       "  flex-direction: column;\n",
       "}\n",
       "\n",
       "#sk-container-id-2 div.sk-parallel-item:first-child::after {\n",
       "  align-self: flex-end;\n",
       "  width: 50%;\n",
       "}\n",
       "\n",
       "#sk-container-id-2 div.sk-parallel-item:last-child::after {\n",
       "  align-self: flex-start;\n",
       "  width: 50%;\n",
       "}\n",
       "\n",
       "#sk-container-id-2 div.sk-parallel-item:only-child::after {\n",
       "  width: 0;\n",
       "}\n",
       "\n",
       "/* Serial-specific style estimator block */\n",
       "\n",
       "#sk-container-id-2 div.sk-serial {\n",
       "  display: flex;\n",
       "  flex-direction: column;\n",
       "  align-items: center;\n",
       "  background-color: var(--sklearn-color-background);\n",
       "  padding-right: 1em;\n",
       "  padding-left: 1em;\n",
       "}\n",
       "\n",
       "\n",
       "/* Toggleable style: style used for estimator/Pipeline/ColumnTransformer box that is\n",
       "clickable and can be expanded/collapsed.\n",
       "- Pipeline and ColumnTransformer use this feature and define the default style\n",
       "- Estimators will overwrite some part of the style using the `sk-estimator` class\n",
       "*/\n",
       "\n",
       "/* Pipeline and ColumnTransformer style (default) */\n",
       "\n",
       "#sk-container-id-2 div.sk-toggleable {\n",
       "  /* Default theme specific background. It is overwritten whether we have a\n",
       "  specific estimator or a Pipeline/ColumnTransformer */\n",
       "  background-color: var(--sklearn-color-background);\n",
       "}\n",
       "\n",
       "/* Toggleable label */\n",
       "#sk-container-id-2 label.sk-toggleable__label {\n",
       "  cursor: pointer;\n",
<<<<<<< Updated upstream
       "  display: block;\n",
=======
       "  display: flex;\n",
>>>>>>> Stashed changes
       "  width: 100%;\n",
       "  margin-bottom: 0;\n",
       "  padding: 0.5em;\n",
       "  box-sizing: border-box;\n",
       "  text-align: center;\n",
<<<<<<< Updated upstream
=======
       "  align-items: start;\n",
       "  justify-content: space-between;\n",
       "  gap: 0.5em;\n",
       "}\n",
       "\n",
       "#sk-container-id-2 label.sk-toggleable__label .caption {\n",
       "  font-size: 0.6rem;\n",
       "  font-weight: lighter;\n",
       "  color: var(--sklearn-color-text-muted);\n",
>>>>>>> Stashed changes
       "}\n",
       "\n",
       "#sk-container-id-2 label.sk-toggleable__label-arrow:before {\n",
       "  /* Arrow on the left of the label */\n",
       "  content: \"▸\";\n",
       "  float: left;\n",
       "  margin-right: 0.25em;\n",
       "  color: var(--sklearn-color-icon);\n",
       "}\n",
       "\n",
       "#sk-container-id-2 label.sk-toggleable__label-arrow:hover:before {\n",
       "  color: var(--sklearn-color-text);\n",
       "}\n",
       "\n",
       "/* Toggleable content - dropdown */\n",
       "\n",
       "#sk-container-id-2 div.sk-toggleable__content {\n",
       "  max-height: 0;\n",
       "  max-width: 0;\n",
       "  overflow: hidden;\n",
       "  text-align: left;\n",
       "  /* unfitted */\n",
       "  background-color: var(--sklearn-color-unfitted-level-0);\n",
       "}\n",
       "\n",
       "#sk-container-id-2 div.sk-toggleable__content.fitted {\n",
       "  /* fitted */\n",
       "  background-color: var(--sklearn-color-fitted-level-0);\n",
       "}\n",
       "\n",
       "#sk-container-id-2 div.sk-toggleable__content pre {\n",
       "  margin: 0.2em;\n",
       "  border-radius: 0.25em;\n",
       "  color: var(--sklearn-color-text);\n",
       "  /* unfitted */\n",
       "  background-color: var(--sklearn-color-unfitted-level-0);\n",
       "}\n",
       "\n",
       "#sk-container-id-2 div.sk-toggleable__content.fitted pre {\n",
       "  /* unfitted */\n",
       "  background-color: var(--sklearn-color-fitted-level-0);\n",
       "}\n",
       "\n",
       "#sk-container-id-2 input.sk-toggleable__control:checked~div.sk-toggleable__content {\n",
       "  /* Expand drop-down */\n",
       "  max-height: 200px;\n",
       "  max-width: 100%;\n",
       "  overflow: auto;\n",
       "}\n",
       "\n",
       "#sk-container-id-2 input.sk-toggleable__control:checked~label.sk-toggleable__label-arrow:before {\n",
       "  content: \"▾\";\n",
       "}\n",
       "\n",
       "/* Pipeline/ColumnTransformer-specific style */\n",
       "\n",
       "#sk-container-id-2 div.sk-label input.sk-toggleable__control:checked~label.sk-toggleable__label {\n",
       "  color: var(--sklearn-color-text);\n",
       "  background-color: var(--sklearn-color-unfitted-level-2);\n",
       "}\n",
       "\n",
       "#sk-container-id-2 div.sk-label.fitted input.sk-toggleable__control:checked~label.sk-toggleable__label {\n",
       "  background-color: var(--sklearn-color-fitted-level-2);\n",
       "}\n",
       "\n",
       "/* Estimator-specific style */\n",
       "\n",
       "/* Colorize estimator box */\n",
       "#sk-container-id-2 div.sk-estimator input.sk-toggleable__control:checked~label.sk-toggleable__label {\n",
       "  /* unfitted */\n",
       "  background-color: var(--sklearn-color-unfitted-level-2);\n",
       "}\n",
       "\n",
       "#sk-container-id-2 div.sk-estimator.fitted input.sk-toggleable__control:checked~label.sk-toggleable__label {\n",
       "  /* fitted */\n",
       "  background-color: var(--sklearn-color-fitted-level-2);\n",
       "}\n",
       "\n",
       "#sk-container-id-2 div.sk-label label.sk-toggleable__label,\n",
       "#sk-container-id-2 div.sk-label label {\n",
       "  /* The background is the default theme color */\n",
       "  color: var(--sklearn-color-text-on-default-background);\n",
       "}\n",
       "\n",
       "/* On hover, darken the color of the background */\n",
       "#sk-container-id-2 div.sk-label:hover label.sk-toggleable__label {\n",
       "  color: var(--sklearn-color-text);\n",
       "  background-color: var(--sklearn-color-unfitted-level-2);\n",
       "}\n",
       "\n",
       "/* Label box, darken color on hover, fitted */\n",
       "#sk-container-id-2 div.sk-label.fitted:hover label.sk-toggleable__label.fitted {\n",
       "  color: var(--sklearn-color-text);\n",
       "  background-color: var(--sklearn-color-fitted-level-2);\n",
       "}\n",
       "\n",
       "/* Estimator label */\n",
       "\n",
       "#sk-container-id-2 div.sk-label label {\n",
       "  font-family: monospace;\n",
       "  font-weight: bold;\n",
       "  display: inline-block;\n",
       "  line-height: 1.2em;\n",
       "}\n",
       "\n",
       "#sk-container-id-2 div.sk-label-container {\n",
       "  text-align: center;\n",
       "}\n",
       "\n",
       "/* Estimator-specific */\n",
       "#sk-container-id-2 div.sk-estimator {\n",
       "  font-family: monospace;\n",
       "  border: 1px dotted var(--sklearn-color-border-box);\n",
       "  border-radius: 0.25em;\n",
       "  box-sizing: border-box;\n",
       "  margin-bottom: 0.5em;\n",
       "  /* unfitted */\n",
       "  background-color: var(--sklearn-color-unfitted-level-0);\n",
       "}\n",
       "\n",
       "#sk-container-id-2 div.sk-estimator.fitted {\n",
       "  /* fitted */\n",
       "  background-color: var(--sklearn-color-fitted-level-0);\n",
       "}\n",
       "\n",
       "/* on hover */\n",
       "#sk-container-id-2 div.sk-estimator:hover {\n",
       "  /* unfitted */\n",
       "  background-color: var(--sklearn-color-unfitted-level-2);\n",
       "}\n",
       "\n",
       "#sk-container-id-2 div.sk-estimator.fitted:hover {\n",
       "  /* fitted */\n",
       "  background-color: var(--sklearn-color-fitted-level-2);\n",
       "}\n",
       "\n",
       "/* Specification for estimator info (e.g. \"i\" and \"?\") */\n",
       "\n",
       "/* Common style for \"i\" and \"?\" */\n",
       "\n",
       ".sk-estimator-doc-link,\n",
       "a:link.sk-estimator-doc-link,\n",
       "a:visited.sk-estimator-doc-link {\n",
       "  float: right;\n",
       "  font-size: smaller;\n",
       "  line-height: 1em;\n",
       "  font-family: monospace;\n",
       "  background-color: var(--sklearn-color-background);\n",
       "  border-radius: 1em;\n",
       "  height: 1em;\n",
       "  width: 1em;\n",
       "  text-decoration: none !important;\n",
<<<<<<< Updated upstream
       "  margin-left: 1ex;\n",
=======
       "  margin-left: 0.5em;\n",
       "  text-align: center;\n",
>>>>>>> Stashed changes
       "  /* unfitted */\n",
       "  border: var(--sklearn-color-unfitted-level-1) 1pt solid;\n",
       "  color: var(--sklearn-color-unfitted-level-1);\n",
       "}\n",
       "\n",
       ".sk-estimator-doc-link.fitted,\n",
       "a:link.sk-estimator-doc-link.fitted,\n",
       "a:visited.sk-estimator-doc-link.fitted {\n",
       "  /* fitted */\n",
       "  border: var(--sklearn-color-fitted-level-1) 1pt solid;\n",
       "  color: var(--sklearn-color-fitted-level-1);\n",
       "}\n",
       "\n",
       "/* On hover */\n",
       "div.sk-estimator:hover .sk-estimator-doc-link:hover,\n",
       ".sk-estimator-doc-link:hover,\n",
       "div.sk-label-container:hover .sk-estimator-doc-link:hover,\n",
       ".sk-estimator-doc-link:hover {\n",
       "  /* unfitted */\n",
       "  background-color: var(--sklearn-color-unfitted-level-3);\n",
       "  color: var(--sklearn-color-background);\n",
       "  text-decoration: none;\n",
       "}\n",
       "\n",
       "div.sk-estimator.fitted:hover .sk-estimator-doc-link.fitted:hover,\n",
       ".sk-estimator-doc-link.fitted:hover,\n",
       "div.sk-label-container:hover .sk-estimator-doc-link.fitted:hover,\n",
       ".sk-estimator-doc-link.fitted:hover {\n",
       "  /* fitted */\n",
       "  background-color: var(--sklearn-color-fitted-level-3);\n",
       "  color: var(--sklearn-color-background);\n",
       "  text-decoration: none;\n",
       "}\n",
       "\n",
       "/* Span, style for the box shown on hovering the info icon */\n",
       ".sk-estimator-doc-link span {\n",
       "  display: none;\n",
       "  z-index: 9999;\n",
       "  position: relative;\n",
       "  font-weight: normal;\n",
       "  right: .2ex;\n",
       "  padding: .5ex;\n",
       "  margin: .5ex;\n",
       "  width: min-content;\n",
       "  min-width: 20ex;\n",
       "  max-width: 50ex;\n",
       "  color: var(--sklearn-color-text);\n",
       "  box-shadow: 2pt 2pt 4pt #999;\n",
       "  /* unfitted */\n",
       "  background: var(--sklearn-color-unfitted-level-0);\n",
       "  border: .5pt solid var(--sklearn-color-unfitted-level-3);\n",
       "}\n",
       "\n",
       ".sk-estimator-doc-link.fitted span {\n",
       "  /* fitted */\n",
       "  background: var(--sklearn-color-fitted-level-0);\n",
       "  border: var(--sklearn-color-fitted-level-3);\n",
       "}\n",
       "\n",
       ".sk-estimator-doc-link:hover span {\n",
       "  display: block;\n",
       "}\n",
       "\n",
       "/* \"?\"-specific style due to the `<a>` HTML tag */\n",
       "\n",
       "#sk-container-id-2 a.estimator_doc_link {\n",
       "  float: right;\n",
       "  font-size: 1rem;\n",
       "  line-height: 1em;\n",
       "  font-family: monospace;\n",
       "  background-color: var(--sklearn-color-background);\n",
       "  border-radius: 1rem;\n",
       "  height: 1rem;\n",
       "  width: 1rem;\n",
       "  text-decoration: none;\n",
       "  /* unfitted */\n",
       "  color: var(--sklearn-color-unfitted-level-1);\n",
       "  border: var(--sklearn-color-unfitted-level-1) 1pt solid;\n",
       "}\n",
       "\n",
       "#sk-container-id-2 a.estimator_doc_link.fitted {\n",
       "  /* fitted */\n",
       "  border: var(--sklearn-color-fitted-level-1) 1pt solid;\n",
       "  color: var(--sklearn-color-fitted-level-1);\n",
       "}\n",
       "\n",
       "/* On hover */\n",
       "#sk-container-id-2 a.estimator_doc_link:hover {\n",
       "  /* unfitted */\n",
       "  background-color: var(--sklearn-color-unfitted-level-3);\n",
       "  color: var(--sklearn-color-background);\n",
       "  text-decoration: none;\n",
       "}\n",
       "\n",
       "#sk-container-id-2 a.estimator_doc_link.fitted:hover {\n",
       "  /* fitted */\n",
       "  background-color: var(--sklearn-color-fitted-level-3);\n",
       "}\n",
<<<<<<< Updated upstream
       "</style><div id=\"sk-container-id-2\" class=\"sk-top-container\"><div class=\"sk-text-repr-fallback\"><pre>LogisticRegression()</pre><b>In a Jupyter environment, please rerun this cell to show the HTML representation or trust the notebook. <br />On GitHub, the HTML representation is unable to render, please try loading this page with nbviewer.org.</b></div><div class=\"sk-container\" hidden><div class=\"sk-item\"><div class=\"sk-estimator fitted sk-toggleable\"><input class=\"sk-toggleable__control sk-hidden--visually\" id=\"sk-estimator-id-2\" type=\"checkbox\" checked><label for=\"sk-estimator-id-2\" class=\"sk-toggleable__label fitted sk-toggleable__label-arrow fitted\">&nbsp;&nbsp;LogisticRegression<a class=\"sk-estimator-doc-link fitted\" rel=\"noreferrer\" target=\"_blank\" href=\"https://scikit-learn.org/1.5/modules/generated/sklearn.linear_model.LogisticRegression.html\">?<span>Documentation for LogisticRegression</span></a><span class=\"sk-estimator-doc-link fitted\">i<span>Fitted</span></span></label><div class=\"sk-toggleable__content fitted\"><pre>LogisticRegression()</pre></div> </div></div></div></div>"
=======
       "</style><div id=\"sk-container-id-2\" class=\"sk-top-container\"><div class=\"sk-text-repr-fallback\"><pre>LogisticRegression()</pre><b>In a Jupyter environment, please rerun this cell to show the HTML representation or trust the notebook. <br />On GitHub, the HTML representation is unable to render, please try loading this page with nbviewer.org.</b></div><div class=\"sk-container\" hidden><div class=\"sk-item\"><div class=\"sk-estimator fitted sk-toggleable\"><input class=\"sk-toggleable__control sk-hidden--visually\" id=\"sk-estimator-id-2\" type=\"checkbox\" checked><label for=\"sk-estimator-id-2\" class=\"sk-toggleable__label fitted sk-toggleable__label-arrow\"><div><div>LogisticRegression</div></div><div><a class=\"sk-estimator-doc-link fitted\" rel=\"noreferrer\" target=\"_blank\" href=\"https://scikit-learn.org/1.6/modules/generated/sklearn.linear_model.LogisticRegression.html\">?<span>Documentation for LogisticRegression</span></a><span class=\"sk-estimator-doc-link fitted\">i<span>Fitted</span></span></div></label><div class=\"sk-toggleable__content fitted\"><pre>LogisticRegression()</pre></div> </div></div></div></div>"
>>>>>>> Stashed changes
      ],
      "text/plain": [
       "LogisticRegression()"
      ]
     },
<<<<<<< Updated upstream
     "execution_count": 15,
=======
     "execution_count": 57,
>>>>>>> Stashed changes
     "metadata": {},
     "output_type": "execute_result"
    }
   ],
   "source": [
    "model = LogisticRegression()\n",
    "model.fit(X_train, y_train)"
   ]
  },
  {
   "cell_type": "markdown",
   "metadata": {},
   "source": [
    "#### Obtendo previsões do modelo\n",
    "\n",
    "1. Selecione um exemplo arbitrário da partição de teste\n",
    "2. Forneça os atributos preditores e obtenha a previsão da idade\n",
    "3. O modelo previu a idade corretamente?"
   ]
  },
  {
   "cell_type": "code",
<<<<<<< Updated upstream
   "execution_count": 18,
=======
   "execution_count": 58,
>>>>>>> Stashed changes
   "metadata": {},
   "outputs": [
    {
     "name": "stdout",
     "output_type": "stream",
     "text": [
<<<<<<< Updated upstream
      "[10  9  9 ...  8 10 11]\n"
     ]
    },
    {
     "data": {
      "text/plain": [
       "0.2638888888888889"
      ]
     },
     "execution_count": 18,
     "metadata": {},
     "output_type": "execute_result"
    }
   ],
   "source": [
    "results = model.predict(X_test)\n",
    "print(results)\n",
    "\n",
    "model.score(X,y)"
=======
      "0.2638888888888889\n"
     ]
    }
   ],
   "source": [
    "y_pred = model.predict(X_test)\n",
    "print(model.score(X,y))\n"
>>>>>>> Stashed changes
   ]
  },
  {
   "cell_type": "markdown",
   "metadata": {},
   "source": [
    "#### Avalie o modelo perante o conjunto de testes\n",
    "\n",
    "1. Obtenha a acurácia, precisão, revocação e F_1 score\n",
    "  * Efetue a importação de tais métricas a partir do pacote sklearn.metrics\n",
    "  * Para fins de simplificação, considere os dados balanceados\n",
    "2. Elabore uma visualização da matriz de confusão para as previsões do conjunto de testes\n",
    "3. O modelo é bom para o problema? Justifique sua afirmação."
   ]
  },
  {
   "cell_type": "code",
   "execution_count": 38,
   "metadata": {},
<<<<<<< Updated upstream
   "outputs": [
    {
     "name": "stdout",
     "output_type": "stream",
     "text": [
      "Acuracia:  27.294493216280923  %\n"
     ]
    },
    {
     "data": {
      "image/png": "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",
      "text/plain": [
       "<Figure size 640x480 with 2 Axes>"
      ]
     },
     "metadata": {},
     "output_type": "display_data"
    }
   ],
   "source": [
    "acuracia = accuracy_score(results, y_test)\n",
    "print(\"Acuracia: \", acuracia*100, \" %\")\n",
    "\n",
    "conf_matrix = confusion_matrix(results, y_test)\n",
    "# print(f\"Matriz de confusao:  {conf_matrix}\")\n",
    "\n",
    "matriz_conf = confusion_matrix(y_test, results)\n",
    "sns.heatmap(matriz_conf, cmap='coolwarm', annot=True, linewidth=1, fmt='d')\n",
    "plt.show()\n",
    "# print(matriz_conf)\n",
    "# quadro = ConfusionMatrixDisplay(confusion_matrix= matriz_conf)\n",
    "# quadro.plot(cmap=\"Blues\")\n",
    "# plt.figure(figsize=(10, 10)) \n",
    "# plt.show()\n"
=======
   "outputs": [],
   "source": [
    "accuracy = accuracy_score(y_test, y_pred)\n",
    "precision = precision_score(y_test, y_pred, average=\"binary\")\n",
    "recall = recall_score(y_test, y_pred, average=\"binary\")\n",
    "f1 = f1_score(y_test, y_pred, average=\"binary\")\n",
    "\n"
>>>>>>> Stashed changes
   ]
  },
  {
   "cell_type": "markdown",
   "metadata": {},
   "source": [
    "#### Treinar um modelo de K-Vizinhos Mais Próximos\n",
    "\n",
    "É um algoritmo de Aprendizado de Máquina que baseia-se na média dos valores dos k vizinhos mais próximos a uma dada entrada para produzir uma estimativa para o atributo-alvo. É considerado \"preguiçoso\", mas muito mostra-se vantajoso por possuir um baixo custo computacional.\n",
    "\n",
    "1. Efetue o treinamento do K-Vizinhos mais Próximos, considerando k = 5\n",
    "2. Efetue o teste no modelo e obtenha as métricas de desempenho previamente indicadas.  \n",
    "3. Comparando com o modelo anterior, qual deles teve melhor desempenho perante o problema? Justifique."
   ]
  },
  {
   "cell_type": "code",
   "execution_count": null,
   "metadata": {},
   "outputs": [],
   "source": []
  },
  {
   "cell_type": "markdown",
   "metadata": {},
   "source": [
    "#### Argumente\n",
    "\n",
    "Qual o grau de dificuldade da tarefa de aprendizado em questão? Justifique a partir dos elementos e resultados obtidos nas células anteriores."
   ]
  },
  {
   "cell_type": "code",
   "execution_count": null,
   "metadata": {},
   "outputs": [],
   "source": []
  }
 ],
 "metadata": {
  "kernelspec": {
<<<<<<< Updated upstream
   "display_name": "base",
=======
   "display_name": "Python 3",
>>>>>>> Stashed changes
   "language": "python",
   "name": "python3"
  },
  "language_info": {
   "codemirror_mode": {
    "name": "ipython",
    "version": 3
   },
   "file_extension": ".py",
   "mimetype": "text/x-python",
   "name": "python",
   "nbconvert_exporter": "python",
   "pygments_lexer": "ipython3",
<<<<<<< Updated upstream
   "version": "3.12.7"
=======
   "version": "3.12.4"
>>>>>>> Stashed changes
  }
 },
 "nbformat": 4,
 "nbformat_minor": 4
}
